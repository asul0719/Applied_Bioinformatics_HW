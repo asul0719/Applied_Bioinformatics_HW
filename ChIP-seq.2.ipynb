{
 "cells": [
  {
   "cell_type": "markdown",
   "metadata": {},
   "source": [
    "# ChIP-seq intro 2\n",
    "Huitian Diao\n",
    "* __References__: \n",
    "* [ENCODE ChIP-seq pipeline](https://www.encodeproject.org/pipelines/ENCPL138KID/)"
   ]
  },
  {
   "cell_type": "markdown",
   "metadata": {},
   "source": [
    "## 1. Alignment"
   ]
  },
  {
   "cell_type": "markdown",
   "metadata": {},
   "source": [
    "#### * [Bowtie2 Manual](http://bowtie-bio.sourceforge.net/bowtie2/manual.shtml)"
   ]
  },
  {
   "cell_type": "markdown",
   "metadata": {},
   "source": [
    "### 1.1 Making bowtie2 index"
   ]
  },
  {
   "cell_type": "code",
   "execution_count": null,
   "metadata": {},
   "outputs": [],
   "source": [
    "%%bash\n",
    "cd /Users/yolandatiao/Documents/0_Bioinformatics2017/2018_Bioinformatics/UCSC_mm10\n",
    "mkdir Bowtie2Index_mm10chr2 # Make a folder for the bowtie2 index\n",
    "cd Bowtie2Index_mm10chr2\n",
    "chr2_fa=/Users/yolandatiao/Documents/0_Bioinformatics2017/2018_Bioinformatics/UCSC_mm10/genome_chr2.fa # Genome fasta file\n",
    "bowtie2-build $chr2_fa genome_chr2 # Indexing"
   ]
  },
  {
   "cell_type": "code",
   "execution_count": 2,
   "metadata": {},
   "outputs": [
    {
     "name": "stderr",
     "output_type": "stream",
     "text": [
      "mkdir: cannot create directory ‘Bowtie2Index_mm10chr2’: File exists\n"
     ]
    }
   ],
   "source": [
    "%%bash \n",
    "cd /mnt/c/Users/asul0/Documents/\n",
    "mkdir Bowtie2Index_mm10chr2\n",
    "cd Bowtie2Index_mm10chr2"
   ]
  },
  {
   "cell_type": "code",
   "execution_count": 5,
   "metadata": {},
   "outputs": [
    {
     "name": "stdout",
     "output_type": "stream",
     "text": [
      "Settings:\n",
      "  Output files: \"genome_chr2.*.bt2\"\n",
      "  Line rate: 6 (line is 64 bytes)\n",
      "  Lines per side: 1 (side is 64 bytes)\n",
      "  Offset rate: 4 (one in 16)\n",
      "  FTable chars: 10\n",
      "  Strings: unpacked\n",
      "  Max bucket size: default\n",
      "  Max bucket size, sqrt multiplier: default\n",
      "  Max bucket size, len divisor: 4\n",
      "  Difference-cover sample period: 1024\n",
      "  Endianness: little\n",
      "  Actual local endianness: little\n",
      "  Sanity checking: disabled\n",
      "  Assertions: disabled\n",
      "  Random seed: 0\n",
      "  Sizeofs: void*:8, int:4, long:8, size_t:8\n",
      "Input files DNA, FASTA:\n",
      "  /mnt/c/Users/asul0/Documents/genome_chr2.fa\n",
      "Total time for call to driver() for forward index: 00:00:00\n"
     ]
    },
    {
     "name": "stderr",
     "output_type": "stream",
     "text": [
      "Error: could not open /mnt/c/Users/asul0/Documents/genome_chr2.fa\n",
      "Error: Encountered internal Bowtie 2 exception (#1)\n",
      "Command: /home/amsul/miniconda3/envs/chip/bin/bowtie2-build-s --wrapper basic-0 /mnt/c/Users/asul0/Documents/genome_chr2.fa genome_chr2 \n"
     ]
    },
    {
     "ename": "CalledProcessError",
     "evalue": "Command 'b'cd /mnt/c/Users/asul0/Documents/drive-download-20181108T162958Z-001/\\nchr2_fa=/mnt/c/Users/asul0/Documents/genome_chr2.fa\\nbowtie2-build $chr2_fa genome_chr2\\n'' returned non-zero exit status 1.",
     "output_type": "error",
     "traceback": [
      "\u001b[0;31m---------------------------------------------------------------------------\u001b[0m",
      "\u001b[0;31mCalledProcessError\u001b[0m                        Traceback (most recent call last)",
      "\u001b[0;32m<ipython-input-5-ed23dc6e351b>\u001b[0m in \u001b[0;36m<module>\u001b[0;34m\u001b[0m\n\u001b[0;32m----> 1\u001b[0;31m \u001b[0mget_ipython\u001b[0m\u001b[0;34m(\u001b[0m\u001b[0;34m)\u001b[0m\u001b[0;34m.\u001b[0m\u001b[0mrun_cell_magic\u001b[0m\u001b[0;34m(\u001b[0m\u001b[0;34m'bash'\u001b[0m\u001b[0;34m,\u001b[0m \u001b[0;34m''\u001b[0m\u001b[0;34m,\u001b[0m \u001b[0;34m'cd /mnt/c/Users/asul0/Documents/drive-download-20181108T162958Z-001/\\nchr2_fa=/mnt/c/Users/asul0/Documents/genome_chr2.fa\\nbowtie2-build $chr2_fa genome_chr2\\n'\u001b[0m\u001b[0;34m)\u001b[0m\u001b[0;34m\u001b[0m\u001b[0m\n\u001b[0m",
      "\u001b[0;32m~/.local/lib/python3.6/site-packages/IPython/core/interactiveshell.py\u001b[0m in \u001b[0;36mrun_cell_magic\u001b[0;34m(self, magic_name, line, cell)\u001b[0m\n\u001b[1;32m   2319\u001b[0m             \u001b[0mmagic_arg_s\u001b[0m \u001b[0;34m=\u001b[0m \u001b[0mself\u001b[0m\u001b[0;34m.\u001b[0m\u001b[0mvar_expand\u001b[0m\u001b[0;34m(\u001b[0m\u001b[0mline\u001b[0m\u001b[0;34m,\u001b[0m \u001b[0mstack_depth\u001b[0m\u001b[0;34m)\u001b[0m\u001b[0;34m\u001b[0m\u001b[0m\n\u001b[1;32m   2320\u001b[0m             \u001b[0;32mwith\u001b[0m \u001b[0mself\u001b[0m\u001b[0;34m.\u001b[0m\u001b[0mbuiltin_trap\u001b[0m\u001b[0;34m:\u001b[0m\u001b[0;34m\u001b[0m\u001b[0m\n\u001b[0;32m-> 2321\u001b[0;31m                 \u001b[0mresult\u001b[0m \u001b[0;34m=\u001b[0m \u001b[0mfn\u001b[0m\u001b[0;34m(\u001b[0m\u001b[0mmagic_arg_s\u001b[0m\u001b[0;34m,\u001b[0m \u001b[0mcell\u001b[0m\u001b[0;34m)\u001b[0m\u001b[0;34m\u001b[0m\u001b[0m\n\u001b[0m\u001b[1;32m   2322\u001b[0m             \u001b[0;32mreturn\u001b[0m \u001b[0mresult\u001b[0m\u001b[0;34m\u001b[0m\u001b[0m\n\u001b[1;32m   2323\u001b[0m \u001b[0;34m\u001b[0m\u001b[0m\n",
      "\u001b[0;32m~/.local/lib/python3.6/site-packages/IPython/core/magics/script.py\u001b[0m in \u001b[0;36mnamed_script_magic\u001b[0;34m(line, cell)\u001b[0m\n\u001b[1;32m    140\u001b[0m             \u001b[0;32melse\u001b[0m\u001b[0;34m:\u001b[0m\u001b[0;34m\u001b[0m\u001b[0m\n\u001b[1;32m    141\u001b[0m                 \u001b[0mline\u001b[0m \u001b[0;34m=\u001b[0m \u001b[0mscript\u001b[0m\u001b[0;34m\u001b[0m\u001b[0m\n\u001b[0;32m--> 142\u001b[0;31m             \u001b[0;32mreturn\u001b[0m \u001b[0mself\u001b[0m\u001b[0;34m.\u001b[0m\u001b[0mshebang\u001b[0m\u001b[0;34m(\u001b[0m\u001b[0mline\u001b[0m\u001b[0;34m,\u001b[0m \u001b[0mcell\u001b[0m\u001b[0;34m)\u001b[0m\u001b[0;34m\u001b[0m\u001b[0m\n\u001b[0m\u001b[1;32m    143\u001b[0m \u001b[0;34m\u001b[0m\u001b[0m\n\u001b[1;32m    144\u001b[0m         \u001b[0;31m# write a basic docstring:\u001b[0m\u001b[0;34m\u001b[0m\u001b[0;34m\u001b[0m\u001b[0m\n",
      "\u001b[0;32m<decorator-gen-109>\u001b[0m in \u001b[0;36mshebang\u001b[0;34m(self, line, cell)\u001b[0m\n",
      "\u001b[0;32m~/.local/lib/python3.6/site-packages/IPython/core/magic.py\u001b[0m in \u001b[0;36m<lambda>\u001b[0;34m(f, *a, **k)\u001b[0m\n\u001b[1;32m    185\u001b[0m     \u001b[0;31m# but it's overkill for just that one bit of state.\u001b[0m\u001b[0;34m\u001b[0m\u001b[0;34m\u001b[0m\u001b[0m\n\u001b[1;32m    186\u001b[0m     \u001b[0;32mdef\u001b[0m \u001b[0mmagic_deco\u001b[0m\u001b[0;34m(\u001b[0m\u001b[0marg\u001b[0m\u001b[0;34m)\u001b[0m\u001b[0;34m:\u001b[0m\u001b[0;34m\u001b[0m\u001b[0m\n\u001b[0;32m--> 187\u001b[0;31m         \u001b[0mcall\u001b[0m \u001b[0;34m=\u001b[0m \u001b[0;32mlambda\u001b[0m \u001b[0mf\u001b[0m\u001b[0;34m,\u001b[0m \u001b[0;34m*\u001b[0m\u001b[0ma\u001b[0m\u001b[0;34m,\u001b[0m \u001b[0;34m**\u001b[0m\u001b[0mk\u001b[0m\u001b[0;34m:\u001b[0m \u001b[0mf\u001b[0m\u001b[0;34m(\u001b[0m\u001b[0;34m*\u001b[0m\u001b[0ma\u001b[0m\u001b[0;34m,\u001b[0m \u001b[0;34m**\u001b[0m\u001b[0mk\u001b[0m\u001b[0;34m)\u001b[0m\u001b[0;34m\u001b[0m\u001b[0m\n\u001b[0m\u001b[1;32m    188\u001b[0m \u001b[0;34m\u001b[0m\u001b[0m\n\u001b[1;32m    189\u001b[0m         \u001b[0;32mif\u001b[0m \u001b[0mcallable\u001b[0m\u001b[0;34m(\u001b[0m\u001b[0marg\u001b[0m\u001b[0;34m)\u001b[0m\u001b[0;34m:\u001b[0m\u001b[0;34m\u001b[0m\u001b[0m\n",
      "\u001b[0;32m~/.local/lib/python3.6/site-packages/IPython/core/magics/script.py\u001b[0m in \u001b[0;36mshebang\u001b[0;34m(self, line, cell)\u001b[0m\n\u001b[1;32m    243\u001b[0m             \u001b[0msys\u001b[0m\u001b[0;34m.\u001b[0m\u001b[0mstderr\u001b[0m\u001b[0;34m.\u001b[0m\u001b[0mflush\u001b[0m\u001b[0;34m(\u001b[0m\u001b[0;34m)\u001b[0m\u001b[0;34m\u001b[0m\u001b[0m\n\u001b[1;32m    244\u001b[0m         \u001b[0;32mif\u001b[0m \u001b[0margs\u001b[0m\u001b[0;34m.\u001b[0m\u001b[0mraise_error\u001b[0m \u001b[0;32mand\u001b[0m \u001b[0mp\u001b[0m\u001b[0;34m.\u001b[0m\u001b[0mreturncode\u001b[0m\u001b[0;34m!=\u001b[0m\u001b[0;36m0\u001b[0m\u001b[0;34m:\u001b[0m\u001b[0;34m\u001b[0m\u001b[0m\n\u001b[0;32m--> 245\u001b[0;31m             \u001b[0;32mraise\u001b[0m \u001b[0mCalledProcessError\u001b[0m\u001b[0;34m(\u001b[0m\u001b[0mp\u001b[0m\u001b[0;34m.\u001b[0m\u001b[0mreturncode\u001b[0m\u001b[0;34m,\u001b[0m \u001b[0mcell\u001b[0m\u001b[0;34m,\u001b[0m \u001b[0moutput\u001b[0m\u001b[0;34m=\u001b[0m\u001b[0mout\u001b[0m\u001b[0;34m,\u001b[0m \u001b[0mstderr\u001b[0m\u001b[0;34m=\u001b[0m\u001b[0merr\u001b[0m\u001b[0;34m)\u001b[0m\u001b[0;34m\u001b[0m\u001b[0m\n\u001b[0m\u001b[1;32m    246\u001b[0m \u001b[0;34m\u001b[0m\u001b[0m\n\u001b[1;32m    247\u001b[0m     \u001b[0;32mdef\u001b[0m \u001b[0m_run_script\u001b[0m\u001b[0;34m(\u001b[0m\u001b[0mself\u001b[0m\u001b[0;34m,\u001b[0m \u001b[0mp\u001b[0m\u001b[0;34m,\u001b[0m \u001b[0mcell\u001b[0m\u001b[0;34m,\u001b[0m \u001b[0mto_close\u001b[0m\u001b[0;34m)\u001b[0m\u001b[0;34m:\u001b[0m\u001b[0;34m\u001b[0m\u001b[0m\n",
      "\u001b[0;31mCalledProcessError\u001b[0m: Command 'b'cd /mnt/c/Users/asul0/Documents/drive-download-20181108T162958Z-001/\\nchr2_fa=/mnt/c/Users/asul0/Documents/genome_chr2.fa\\nbowtie2-build $chr2_fa genome_chr2\\n'' returned non-zero exit status 1."
     ]
    }
   ],
   "source": [
    "%%bash \n",
    "cd /mnt/c/Users/asul0/Documents/drive-download-20181108T162958Z-001/\n",
    "chr2_fa=/mnt/c/Users/asul0/Documents/genome_chr2.fa\n",
    "bowtie2-build $chr2_fa genome_chr2"
   ]
  },
  {
   "cell_type": "markdown",
   "metadata": {},
   "source": [
    "### 1.2 Alignment"
   ]
  },
  {
   "cell_type": "markdown",
   "metadata": {},
   "source": [
    "#### Download a sample of fastq file"
   ]
  },
  {
   "cell_type": "code",
   "execution_count": 3,
   "metadata": {},
   "outputs": [
    {
     "name": "stderr",
     "output_type": "stream",
     "text": [
      "Read 1000 spots for SRR3001750\n",
      "Written 1000 spots for SRR3001750\n"
     ]
    }
   ],
   "source": [
    "%%bash\n",
    "cd /Users/yolandatiao/Documents/0_Bioinformatics2017/2018_Bioinformatics/Applied-Bioinformatics-HW-Yolanda\n",
    "mkdir ChIP-seq.2\n",
    "cd ChIP-seq.2\n",
    "fastq-dump --split-files -X 1000 -Z SRR3001750 > SRR3001750.1000.fastq"
   ]
  },
  {
   "cell_type": "code",
   "execution_count": 6,
   "metadata": {},
   "outputs": [
    {
     "name": "stderr",
     "output_type": "stream",
     "text": [
      "Read 1000 spots for SRR3001750\n",
      "Written 1000 spots for SRR3001750\n"
     ]
    }
   ],
   "source": [
    "%%bash \n",
    "cd /mnt/c/Users/asul0/Documents/Applied_Bioinformatics_HW\n",
    "mkdir ChIP-seq.2\n",
    "cd ChIP-seq.2\n",
    "fastq-dump --split-files -X 1000 -Z SRR3001750 > SRR3001750.1000.fastq"
   ]
  },
  {
   "cell_type": "markdown",
   "metadata": {},
   "source": [
    "#### Alignment\n",
    "* -x: The basename of the index for the reference genome\n",
    "* -U: Unpaired reads to be aligned\n",
    "* -S: File to write SAM alignments to\n",
    "* &>: Redirect stderr"
   ]
  },
  {
   "cell_type": "code",
   "execution_count": 7,
   "metadata": {},
   "outputs": [],
   "source": [
    "%%bash\n",
    "cd /Users/yolandatiao/Documents/0_Bioinformatics2017/2018_Bioinformatics/Applied-Bioinformatics-HW-Yolanda/ChIP-seq.2\n",
    "bowtie2_index_mm10=/Users/yolandatiao/Documents/0_Bioinformatics2017/2018_Bioinformatics/UCSC_mm10/Bowtie2Index_mm10chr2/genome_chr2\n",
    "bowtie2 -x $bowtie2_index_mm10 -U SRR3001750.1000.fastq -S SRR3001750.1000.sam &> SRR3001750.1000.align.out"
   ]
  },
  {
   "cell_type": "code",
   "execution_count": 7,
   "metadata": {},
   "outputs": [],
   "source": [
    "%%bash \n",
    "cd /mnt/c/Users/asul0/Documents/Applied_Bioinformatics_HW/ChIP-seq.2\n",
    "bowtie2_index_mm10=/mnt/c/Users/asul0/Documents/Bowtie2Index_mm10chr2/genome_chr2\n",
    "bowtie2 -x $bowtie2_index_mm10 -U SRR3001750.1000.fastq -S SRR3001750.1000.sam &> SRR3001750.1000.align.out"
   ]
  },
  {
   "cell_type": "code",
   "execution_count": 9,
   "metadata": {},
   "outputs": [
    {
     "name": "stdout",
     "output_type": "stream",
     "text": [
      "1000 reads; of these:\n",
      "  1000 (100.00%) were unpaired; of these:\n",
      "    815 (81.50%) aligned 0 times\n",
      "    63 (6.30%) aligned exactly 1 time\n",
      "    122 (12.20%) aligned >1 times\n",
      "18.50% overall alignment rate\n"
     ]
    }
   ],
   "source": [
    "%%bash\n",
    "cd /Users/yolandatiao/Documents/0_Bioinformatics2017/2018_Bioinformatics/Applied-Bioinformatics-HW-Yolanda/ChIP-seq.2\n",
    "cat SRR3001750.1000.align.out"
   ]
  },
  {
   "cell_type": "markdown",
   "metadata": {},
   "source": [
    "## 2. File conversion and filter"
   ]
  },
  {
   "cell_type": "markdown",
   "metadata": {},
   "source": [
    "#### * [Samtools manual](http://www.htslib.org/doc/samtools.html)"
   ]
  },
  {
   "cell_type": "code",
   "execution_count": 10,
   "metadata": {},
   "outputs": [
    {
     "name": "stderr",
     "output_type": "stream",
     "text": [
      "[bam_rmdupse_core] 2 / 185 = 0.0108 in library '\t'\n"
     ]
    }
   ],
   "source": [
    "%%bash\n",
    "cd /Users/yolandatiao/Documents/0_Bioinformatics2017/2018_Bioinformatics/Applied-Bioinformatics-HW-Yolanda/ChIP-seq.2\n",
    "# Convert sam file to bam file\n",
    "samtools view -bS SRR3001750.1000.sam > SRR3001750.1000.bam\n",
    "# Sort bam file\n",
    "samtools sort SRR3001750.1000.bam -o SRR3001750.1000.srt.bam\n",
    "# Remove PCR duplicates\n",
    "samtools rmdup -S SRR3001750.1000.srt.bam SRR3001750.1000.srt.dupr.bam"
   ]
  },
  {
   "cell_type": "code",
   "execution_count": null,
   "metadata": {},
   "outputs": [],
   "source": []
  },
  {
   "cell_type": "code",
   "execution_count": null,
   "metadata": {},
   "outputs": [],
   "source": []
  }
 ],
 "metadata": {
  "kernelspec": {
   "display_name": "Python 3",
   "language": "python",
   "name": "python3"
  },
  "language_info": {
   "codemirror_mode": {
    "name": "ipython",
    "version": 3
   },
   "file_extension": ".py",
   "mimetype": "text/x-python",
   "name": "python",
   "nbconvert_exporter": "python",
   "pygments_lexer": "ipython3",
   "version": "3.6.6"
  }
 },
 "nbformat": 4,
 "nbformat_minor": 2
}
