{
 "cells": [
  {
   "cell_type": "markdown",
   "metadata": {},
   "source": [
    "# ChIP-seq intro 5\n",
    "Huitian Diao\n",
    "* __References__: \n",
    "* [ENCODE ChIP-seq pipeline](https://www.encodeproject.org/pipelines/ENCPL138KID/)"
   ]
  },
  {
   "cell_type": "markdown",
   "metadata": {},
   "source": [
    "### 1.1 ChIPQC\n",
    "* 1.1.0 Load package and sampleSheet\n",
    "* 1.1.1 Create ChIPQC object\n",
    "* 1.1.2 Generate ChIPQC report"
   ]
  },
  {
   "cell_type": "code",
   "execution_count": 1,
   "metadata": {},
   "outputs": [
    {
     "name": "stderr",
     "output_type": "stream",
     "text": [
      "Bioconductor version 3.8 (BiocManager 1.30.4), R 3.5.1 (2018-07-02)\n",
      "Installing package(s) 'XVector'\n",
      "installation path not writeable, unable to update packages: foreign, lattice,\n",
      "  Matrix, mgcv, survival\n",
      "Update old packages: 'annotate', 'Biobase', 'BiocGenerics', 'BiocInstaller',\n",
      "  'BiocParallel', 'biomaRt', 'DelayedArray', 'DESeq2', 'devtools', 'dplyr',\n",
      "  'genefilter', 'geneplotter', 'GenomeInfoDb', 'GenomeInfoDbData', 'ggplot2',\n",
      "  'IRdisplay', 'IRkernel', 'openssl', 'pkgload', 'ps', 'rcmdcheck', 'Rcpp',\n",
      "  'RcppArmadillo', 'readr', 'remotes', 'repr', 'rlang', 'sessioninfo',\n",
      "  'SummarizedExperiment', 'tidyr', 'tinytex', 'xfun', 'zlibbioc'\n",
      "Bioconductor version 3.8 (BiocManager 1.30.4), R 3.5.1 (2018-07-02)\n",
      "Installing package(s) 'ChIPQC'\n",
      "also installing the dependencies ‘BSgenome’, ‘VariantAnnotation’, ‘BatchJobs’, ‘edgeR’, ‘limma’, ‘systemPipeR’, ‘Biostrings’, ‘ShortRead’, ‘rtracklayer’, ‘DiffBind’, ‘Rsamtools’, ‘GenomicAlignments’, ‘chipseq’, ‘GenomicFeatures’, ‘TxDb.Hsapiens.UCSC.hg19.knownGene’, ‘TxDb.Hsapiens.UCSC.hg18.knownGene’, ‘TxDb.Mmusculus.UCSC.mm10.knownGene’, ‘TxDb.Mmusculus.UCSC.mm9.knownGene’, ‘TxDb.Rnorvegicus.UCSC.rn4.ensGene’, ‘TxDb.Celegans.UCSC.ce6.ensGene’, ‘TxDb.Dmelanogaster.UCSC.dm3.ensGene’\n",
      "\n",
      "installation path not writeable, unable to update packages: foreign, lattice,\n",
      "  Matrix, mgcv, survival\n",
      "Update old packages: 'annotate', 'Biobase', 'BiocGenerics', 'BiocInstaller',\n",
      "  'BiocParallel', 'biomaRt', 'DelayedArray', 'DESeq2', 'devtools', 'dplyr',\n",
      "  'genefilter', 'geneplotter', 'GenomeInfoDb', 'GenomeInfoDbData', 'ggplot2',\n",
      "  'IRdisplay', 'IRkernel', 'openssl', 'pkgload', 'ps', 'rcmdcheck', 'Rcpp',\n",
      "  'RcppArmadillo', 'readr', 'remotes', 'repr', 'rlang', 'sessioninfo',\n",
      "  'SummarizedExperiment', 'tidyr', 'tinytex', 'xfun', 'zlibbioc'\n"
     ]
    }
   ],
   "source": [
    "BiocManager::install(\"XVector\", version = \"3.8\")\n",
    "\n",
    "if (!requireNamespace(\"BiocManager\", quietly = TRUE))\n",
    "    install.packages(\"BiocManager\")\n",
    "BiocManager::install(\"ChIPQC\", version = \"3.8\")"
   ]
  },
  {
   "cell_type": "code",
   "execution_count": 4,
   "metadata": {},
   "outputs": [
    {
     "ename": "ERROR",
     "evalue": "Error in setwd(\"/Users/yolandatiao/Documents/0_Bioinformatics2017/2018_Bioinformatics/Applied-Bioinformatics-HW-Yolanda/ChIP-seq.5/aligned_bam\"): cannot change working directory\n",
     "output_type": "error",
     "traceback": [
      "Error in setwd(\"/Users/yolandatiao/Documents/0_Bioinformatics2017/2018_Bioinformatics/Applied-Bioinformatics-HW-Yolanda/ChIP-seq.5/aligned_bam\"): cannot change working directory\nTraceback:\n",
      "1. setwd(\"/Users/yolandatiao/Documents/0_Bioinformatics2017/2018_Bioinformatics/Applied-Bioinformatics-HW-Yolanda/ChIP-seq.5/aligned_bam\")"
     ]
    }
   ],
   "source": [
    "setwd(\"/Users/yolandatiao/Documents/0_Bioinformatics2017/2018_Bioinformatics/Applied-Bioinformatics-HW-Yolanda/ChIP-seq.5/aligned_bam\")\n",
    "\n",
    "# Load ChIPQC package\n",
    "library(ChIPQC)"
   ]
  },
  {
   "cell_type": "code",
   "execution_count": 1,
   "metadata": {},
   "outputs": [
    {
     "name": "stderr",
     "output_type": "stream",
     "text": [
      "Loading required package: ggplot2\n",
      "Loading required package: DiffBind\n",
      "Loading required package: GenomicRanges\n",
      "Loading required package: stats4\n",
      "Loading required package: BiocGenerics\n",
      "Loading required package: parallel\n",
      "\n",
      "Attaching package: ‘BiocGenerics’\n",
      "\n",
      "The following objects are masked from ‘package:parallel’:\n",
      "\n",
      "    clusterApply, clusterApplyLB, clusterCall, clusterEvalQ,\n",
      "    clusterExport, clusterMap, parApply, parCapply, parLapply,\n",
      "    parLapplyLB, parRapply, parSapply, parSapplyLB\n",
      "\n",
      "The following objects are masked from ‘package:stats’:\n",
      "\n",
      "    IQR, mad, sd, var, xtabs\n",
      "\n",
      "The following objects are masked from ‘package:base’:\n",
      "\n",
      "    anyDuplicated, append, as.data.frame, basename, cbind, colMeans,\n",
      "    colnames, colSums, dirname, do.call, duplicated, eval, evalq,\n",
      "    Filter, Find, get, grep, grepl, intersect, is.unsorted, lapply,\n",
      "    lengths, Map, mapply, match, mget, order, paste, pmax, pmax.int,\n",
      "    pmin, pmin.int, Position, rank, rbind, Reduce, rowMeans, rownames,\n",
      "    rowSums, sapply, setdiff, sort, table, tapply, union, unique,\n",
      "    unsplit, which, which.max, which.min\n",
      "\n",
      "Loading required package: S4Vectors\n",
      "\n",
      "Attaching package: ‘S4Vectors’\n",
      "\n",
      "The following object is masked from ‘package:base’:\n",
      "\n",
      "    expand.grid\n",
      "\n",
      "Loading required package: IRanges\n",
      "Loading required package: GenomeInfoDb\n",
      "Loading required package: SummarizedExperiment\n",
      "Loading required package: Biobase\n",
      "Welcome to Bioconductor\n",
      "\n",
      "    Vignettes contain introductory material; view with\n",
      "    'browseVignettes()'. To cite Bioconductor, see\n",
      "    'citation(\"Biobase\")', and for packages 'citation(\"pkgname\")'.\n",
      "\n",
      "Loading required package: DelayedArray\n",
      "Loading required package: matrixStats\n",
      "\n",
      "Attaching package: ‘matrixStats’\n",
      "\n",
      "The following objects are masked from ‘package:Biobase’:\n",
      "\n",
      "    anyMissing, rowMedians\n",
      "\n",
      "Loading required package: BiocParallel\n",
      "\n",
      "Attaching package: ‘DelayedArray’\n",
      "\n",
      "The following objects are masked from ‘package:matrixStats’:\n",
      "\n",
      "    colMaxs, colMins, colRanges, rowMaxs, rowMins, rowRanges\n",
      "\n",
      "The following objects are masked from ‘package:base’:\n",
      "\n",
      "    aperm, apply\n",
      "\n",
      "\n"
     ]
    }
   ],
   "source": [
    "setwd(\"/mnt/c/Users/asul0/Documents/Applied_Bioinformatics_HW/Unit2-module2-ChIPseq/5.1\")\n",
    "library(ChIPQC)"
   ]
  },
  {
   "cell_type": "code",
   "execution_count": 8,
   "metadata": {},
   "outputs": [
    {
     "name": "stderr",
     "output_type": "stream",
     "text": [
      "Warning message in read.table(file = file, header = header, sep = sep, quote = quote, :\n",
      "“incomplete final line found by readTableHeader on 'ChIPQC_samplesheet_chr10.csv'”"
     ]
    },
    {
     "data": {
      "text/html": [
       "<table>\n",
       "<thead><tr><th scope=col>SampleID</th><th scope=col>Tissue</th><th scope=col>Factor</th><th scope=col>Condition</th><th scope=col>Replicate</th><th scope=col>bamReads</th><th scope=col>ControlID</th><th scope=col>bamControl</th><th scope=col>Peaks</th><th scope=col>PeakCaller</th></tr></thead>\n",
       "<tbody>\n",
       "\t<tr><td>SRR3001750_chr10                             </td><td>NA                                           </td><td>NA                                           </td><td>NA                                           </td><td>NA                                           </td><td>SRR3001750_srt_dupr.chr10.srt.bam            </td><td>NA                                           </td><td>NA                                           </td><td>SRR3001750_srt_dupr.chr10.srt_peaks.broadPeak</td><td>macs                                         </td></tr>\n",
       "\t<tr><td>SRR3001751_chr10                             </td><td>NA                                           </td><td>NA                                           </td><td>NA                                           </td><td>NA                                           </td><td>SRR3001751_srt_dupr.chr10.srt.bam            </td><td>NA                                           </td><td>NA                                           </td><td>SRR3001751_srt_dupr.chr10.srt_peaks.broadPeak</td><td>macs                                         </td></tr>\n",
       "</tbody>\n",
       "</table>\n"
      ],
      "text/latex": [
       "\\begin{tabular}{r|llllllllll}\n",
       " SampleID & Tissue & Factor & Condition & Replicate & bamReads & ControlID & bamControl & Peaks & PeakCaller\\\\\n",
       "\\hline\n",
       "\t SRR3001750\\_chr10                                  & NA                                                  & NA                                                  & NA                                                  & NA                                                  & SRR3001750\\_srt\\_dupr.chr10.srt.bam               & NA                                                  & NA                                                  & SRR3001750\\_srt\\_dupr.chr10.srt\\_peaks.broadPeak & macs                                               \\\\\n",
       "\t SRR3001751\\_chr10                                  & NA                                                  & NA                                                  & NA                                                  & NA                                                  & SRR3001751\\_srt\\_dupr.chr10.srt.bam               & NA                                                  & NA                                                  & SRR3001751\\_srt\\_dupr.chr10.srt\\_peaks.broadPeak & macs                                               \\\\\n",
       "\\end{tabular}\n"
      ],
      "text/markdown": [
       "\n",
       "SampleID | Tissue | Factor | Condition | Replicate | bamReads | ControlID | bamControl | Peaks | PeakCaller | \n",
       "|---|---|\n",
       "| SRR3001750_chr10                              | NA                                            | NA                                            | NA                                            | NA                                            | SRR3001750_srt_dupr.chr10.srt.bam             | NA                                            | NA                                            | SRR3001750_srt_dupr.chr10.srt_peaks.broadPeak | macs                                          | \n",
       "| SRR3001751_chr10                              | NA                                            | NA                                            | NA                                            | NA                                            | SRR3001751_srt_dupr.chr10.srt.bam             | NA                                            | NA                                            | SRR3001751_srt_dupr.chr10.srt_peaks.broadPeak | macs                                          | \n",
       "\n",
       "\n"
      ],
      "text/plain": [
       "  SampleID         Tissue Factor Condition Replicate\n",
       "1 SRR3001750_chr10 NA     NA     NA        NA       \n",
       "2 SRR3001751_chr10 NA     NA     NA        NA       \n",
       "  bamReads                          ControlID bamControl\n",
       "1 SRR3001750_srt_dupr.chr10.srt.bam NA        NA        \n",
       "2 SRR3001751_srt_dupr.chr10.srt.bam NA        NA        \n",
       "  Peaks                                         PeakCaller\n",
       "1 SRR3001750_srt_dupr.chr10.srt_peaks.broadPeak macs      \n",
       "2 SRR3001751_srt_dupr.chr10.srt_peaks.broadPeak macs      "
      ]
     },
     "metadata": {},
     "output_type": "display_data"
    }
   ],
   "source": [
    "# Load sampleSheet\n",
    "samples <- read.csv(\"ChIPQC_samplesheet_chr10.csv\")\n",
    "head(samples)"
   ]
  },
  {
   "cell_type": "code",
   "execution_count": 9,
   "metadata": {},
   "outputs": [
    {
     "name": "stderr",
     "output_type": "stream",
     "text": [
      "SRR3001750_chr10     NA macs\n",
      "SRR3001751_chr10     NA macs\n",
      "Checking chromosomes:\n"
     ]
    },
    {
     "name": "stdout",
     "output_type": "stream",
     "text": [
      "[1] \"chr10\"\n"
     ]
    },
    {
     "name": "stderr",
     "output_type": "stream",
     "text": [
      "Compiling annotation...\n",
      "Computing metrics for 2 samples...\n",
      "R_zmq_msg_send errno: 4 strerror: Interrupted system call\n",
      "R_zmq_msg_send errno: 4 strerror: Interrupted system call\n",
      "R_zmq_msg_send errno: 4 strerror: Interrupted system call\n",
      "R_zmq_msg_send errno: 4 strerror: Interrupted system call\n",
      "R_zmq_msg_send errno: 4 strerror: Interrupted system call\n",
      "R_zmq_msg_send errno: 4 strerror: Interrupted system call\n",
      "R_zmq_msg_send errno: 4 strerror: Interrupted system call\n",
      " 300 / 300\n",
      "R_zmq_msg_send errno: 4 strerror: Interrupted system call\n",
      "R_zmq_msg_send errno: 4 strerror: Interrupted system call\n",
      "done\n",
      "Calculating coverage\n",
      "Calculating Summits on  chr10  ..[1] 1\n",
      "R_zmq_msg_send errno: 4 strerror: Interrupted system call\n",
      "R_zmq_msg_send errno: 4 strerror: Interrupted system call\n",
      "R_zmq_msg_send errno: 4 strerror: Interrupted system call\n",
      "R_zmq_msg_send errno: 4 strerror: Interrupted system call\n",
      "R_zmq_msg_send errno: 4 strerror: Interrupted system call\n",
      "R_zmq_msg_send errno: 4 strerror: Interrupted system call\n",
      "R_zmq_msg_send errno: 4 strerror: Interrupted system call\n",
      " 300 / 300\n",
      "R_zmq_msg_send errno: 4 strerror: Interrupted system call\n",
      "R_zmq_msg_send errno: 4 strerror: Interrupted system call\n",
      "done\n",
      "Calculating coverage\n",
      "Calculating Summits on  chr10  ..[1] 1\n"
     ]
    }
   ],
   "source": [
    "## Create ChIPQC object\n",
    "chipObj <- ChIPQC(samples, annotation=\"mm10\") "
   ]
  },
  {
   "cell_type": "code",
   "execution_count": 10,
   "metadata": {},
   "outputs": [
    {
     "name": "stderr",
     "output_type": "stream",
     "text": [
      "Saving 7 x 7 in image\n",
      "Saving 7 x 7 in image\n",
      "Saving 7 x 7 in image\n",
      "Using Sample as id variables\n",
      "Saving 7 x 7 in image\n",
      "Saving 7 x 7 in image\n"
     ]
    }
   ],
   "source": [
    "## Create ChIPQC report\n",
    "ChIPQCreport(chipObj, reportName=\"ChIP QC report - chr10\", reportFolder=\"ChIPQCreportChr10\")"
   ]
  },
  {
   "cell_type": "code",
   "execution_count": null,
   "metadata": {},
   "outputs": [],
   "source": []
  }
 ],
 "metadata": {
  "kernelspec": {
   "display_name": "R",
   "language": "R",
   "name": "ir"
  },
  "language_info": {
   "codemirror_mode": "r",
   "file_extension": ".r",
   "mimetype": "text/x-r-source",
   "name": "R",
   "pygments_lexer": "r",
   "version": "3.5.1"
  }
 },
 "nbformat": 4,
 "nbformat_minor": 2
}
