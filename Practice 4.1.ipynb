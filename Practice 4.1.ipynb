{
 "cells": [
  {
   "cell_type": "code",
   "execution_count": 14,
   "metadata": {},
   "outputs": [
    {
     "name": "stderr",
     "output_type": "stream",
     "text": [
      "Read 50000 spots for SRR3001776\n",
      "Written 50000 spots for SRR3001776\n"
     ]
    }
   ],
   "source": [
    "%%bash\n",
    "cd /mnt/c/Users/asul0/Documents/\n",
    "sratoolkit.2.9.2-ubuntu64/bin/fastq-dump --split-files -X 50000 -Z SRR3001776 > SRR3001776.fastq "
   ]
  },
  {
   "cell_type": "code",
   "execution_count": 15,
   "metadata": {},
   "outputs": [
    {
     "name": "stdout",
     "output_type": "stream",
     "text": [
      "@SRR3001776.1 HISEQ:70:C4WY9ACXX:7:1101:1104:2203 length=51\n",
      "AAAGTGAGTGTGTATTCCTTTCCATGTTTTTCAGTTTTTTCAACATATTCT\n",
      "+SRR3001776.1 HISEQ:70:C4WY9ACXX:7:1101:1104:2203 length=51\n",
      ":?@D4:DDF<=4<CGFEFHIFHHHHD?CHGFFIHIECFII???BBAEF@BF\n",
      "@SRR3001776.2 HISEQ:70:C4WY9ACXX:7:1101:1292:2131 length=51\n",
      "TTCAACGTGCTCAACGTGCTTTATAGCTAAAGAATTCCTGTCCCTGTGCAC\n",
      "+SRR3001776.2 HISEQ:70:C4WY9ACXX:7:1101:1292:2131 length=51\n",
      "CCCFFFFDHHHHHJJJHIIIJJIJJJJJIJJGIJJJJJJJIIJJJJJJJJJ\n",
      "@SRR3001776.3 HISEQ:70:C4WY9ACXX:7:1101:1436:2152 length=51\n",
      "CTCTGGACAGTCATTCCTTCAGTCTCAGCTCCAGACTTTCTCTTTGTAAAT\n"
     ]
    }
   ],
   "source": [
    "%%bash \n",
    "cd /mnt/c/Users/asul0/Documents\n",
    "head SRR3001776.fastq"
   ]
  },
  {
   "cell_type": "code",
   "execution_count": 19,
   "metadata": {
    "scrolled": false
   },
   "outputs": [
    {
     "name": "stdout",
     "output_type": "stream",
     "text": [
      "Analysis complete for SRR3001776.fastq\n"
     ]
    },
    {
     "name": "stderr",
     "output_type": "stream",
     "text": [
      "Started analysis of SRR3001776.fastq\n",
      "Approx 5% complete for SRR3001776.fastq\n",
      "Approx 10% complete for SRR3001776.fastq\n",
      "Approx 15% complete for SRR3001776.fastq\n",
      "Approx 20% complete for SRR3001776.fastq\n",
      "Approx 25% complete for SRR3001776.fastq\n",
      "Approx 30% complete for SRR3001776.fastq\n",
      "Approx 35% complete for SRR3001776.fastq\n",
      "Approx 40% complete for SRR3001776.fastq\n",
      "Approx 45% complete for SRR3001776.fastq\n",
      "Approx 50% complete for SRR3001776.fastq\n",
      "Approx 55% complete for SRR3001776.fastq\n",
      "Approx 60% complete for SRR3001776.fastq\n",
      "Approx 65% complete for SRR3001776.fastq\n",
      "Approx 70% complete for SRR3001776.fastq\n",
      "Approx 75% complete for SRR3001776.fastq\n",
      "Approx 80% complete for SRR3001776.fastq\n",
      "Approx 85% complete for SRR3001776.fastq\n",
      "Approx 90% complete for SRR3001776.fastq\n",
      "Approx 95% complete for SRR3001776.fastq\n",
      "Approx 100% complete for SRR3001776.fastq\n"
     ]
    }
   ],
   "source": [
    "%%bash \n",
    "cd /mnt/c/Users/asul0/Documents\n",
    "fastqc SRR3001776.fastq"
   ]
  },
  {
   "cell_type": "code",
   "execution_count": 2,
   "metadata": {},
   "outputs": [
    {
     "name": "stderr",
     "output_type": "stream",
     "text": [
      "Read 500 spots for SRR3001750\n",
      "Written 500 spots for SRR3001750\n",
      "Read 500 spots for SRR3001751\n",
      "Written 500 spots for SRR3001751\n",
      "Read 500 spots for SRR3001752\n",
      "Written 500 spots for SRR3001752\n",
      "Read 500 spots for SRR3001753\n",
      "Written 500 spots for SRR3001753\n",
      "Read 500 spots for SRR3001754\n",
      "Written 500 spots for SRR3001754\n",
      "Read 500 spots for SRR3001755\n",
      "Written 500 spots for SRR3001755\n",
      "Read 500 spots for SRR3001756\n",
      "Written 500 spots for SRR3001756\n",
      "Read 500 spots for SRR3001757\n",
      "Written 500 spots for SRR3001757\n",
      "Read 500 spots for SRR3001758\n",
      "Written 500 spots for SRR3001758\n",
      "Read 500 spots for SRR3001759\n",
      "Written 500 spots for SRR3001759\n",
      "Read 500 spots for SRR3001760\n",
      "Written 500 spots for SRR3001760\n",
      "Read 500 spots for SRR3001761\n",
      "Written 500 spots for SRR3001761\n",
      "Read 500 spots for SRR3001762\n",
      "Written 500 spots for SRR3001762\n",
      "Read 500 spots for SRR3001763\n",
      "Written 500 spots for SRR3001763\n",
      "Read 500 spots for SRR3001764\n",
      "Written 500 spots for SRR3001764\n",
      "Read 500 spots for SRR3001765\n",
      "Written 500 spots for SRR3001765\n",
      "Read 500 spots for SRR3001766\n",
      "Written 500 spots for SRR3001766\n",
      "Read 500 spots for SRR3001767\n",
      "Written 500 spots for SRR3001767\n",
      "Read 500 spots for SRR3001768\n",
      "Written 500 spots for SRR3001768\n",
      "Read 500 spots for SRR3001769\n",
      "Written 500 spots for SRR3001769\n",
      "Read 500 spots for SRR3001770\n",
      "Written 500 spots for SRR3001770\n",
      "Read 500 spots for SRR3001771\n",
      "Written 500 spots for SRR3001771\n",
      "Read 500 spots for SRR3001772\n",
      "Written 500 spots for SRR3001772\n",
      "Read 500 spots for SRR3001773\n",
      "Written 500 spots for SRR3001773\n",
      "Read 500 spots for SRR3001774\n",
      "Written 500 spots for SRR3001774\n",
      "Read 500 spots for SRR3001775\n",
      "Written 500 spots for SRR3001775\n",
      "Read 500 spots for SRR3001776\n",
      "Written 500 spots for SRR3001776\n"
     ]
    }
   ],
   "source": [
    "%%bash \n",
    "cd /mnt/c/Users/asul0/Documents\n",
    "for((a=3001750; a<=3001776 ;a++))\n",
    "do\n",
    "    sratoolkit.2.9.2-ubuntu64/bin/fastq-dump --split-files -X 500 -Z SRR$a > /mnt/c/Users/asul0/Documents/sample_fastq/SRR$a.500.fastq\n",
    "done"
   ]
  },
  {
   "cell_type": "code",
   "execution_count": 3,
   "metadata": {},
   "outputs": [
    {
     "name": "stderr",
     "output_type": "stream",
     "text": [
      "[INFO   ]         multiqc : This is MultiQC v1.6\n",
      "[INFO   ]         multiqc : Template    : default\n",
      "[INFO   ]         multiqc : Searching './sample_fastq/'\n",
      "[WARNING]         multiqc : No analysis results found. Cleaning up..\n",
      "[INFO   ]         multiqc : MultiQC complete\n"
     ]
    }
   ],
   "source": [
    "%%bash \n",
    "cd /mnt/c/Users/asul0/Documents\n",
    "source activate chip\n",
    "multiqc ./sample_fastq/"
   ]
  },
  {
   "cell_type": "code",
   "execution_count": 4,
   "metadata": {},
   "outputs": [
    {
     "name": "stderr",
     "output_type": "stream",
     "text": [
      "Failed to process ./sample_fastq\n",
      "java.io.FileNotFoundException: ./sample_fastq (Is a directory)\n",
      "\tat java.io.FileInputStream.open0(Native Method)\n",
      "\tat java.io.FileInputStream.open(FileInputStream.java:195)\n",
      "\tat java.io.FileInputStream.<init>(FileInputStream.java:138)\n",
      "\tat uk.ac.babraham.FastQC.Sequence.FastQFile.<init>(FastQFile.java:73)\n",
      "\tat uk.ac.babraham.FastQC.Sequence.SequenceFactory.getSequenceFile(SequenceFactory.java:106)\n",
      "\tat uk.ac.babraham.FastQC.Sequence.SequenceFactory.getSequenceFile(SequenceFactory.java:62)\n",
      "\tat uk.ac.babraham.FastQC.Analysis.OfflineRunner.processFile(OfflineRunner.java:152)\n",
      "\tat uk.ac.babraham.FastQC.Analysis.OfflineRunner.<init>(OfflineRunner.java:121)\n",
      "\tat uk.ac.babraham.FastQC.FastQCApplication.main(FastQCApplication.java:316)\n"
     ]
    },
    {
     "ename": "CalledProcessError",
     "evalue": "Command 'b'cd /mnt/c/Users/asul0/Documents\\nsource activate chip\\nfastqc ./sample_fastq/\\n'' returned non-zero exit status 1.",
     "output_type": "error",
     "traceback": [
      "\u001b[0;31m---------------------------------------------------------------------------\u001b[0m",
      "\u001b[0;31mCalledProcessError\u001b[0m                        Traceback (most recent call last)",
      "\u001b[0;32m<ipython-input-4-937450c42c05>\u001b[0m in \u001b[0;36m<module>\u001b[0;34m\u001b[0m\n\u001b[0;32m----> 1\u001b[0;31m \u001b[0mget_ipython\u001b[0m\u001b[0;34m(\u001b[0m\u001b[0;34m)\u001b[0m\u001b[0;34m.\u001b[0m\u001b[0mrun_cell_magic\u001b[0m\u001b[0;34m(\u001b[0m\u001b[0;34m'bash'\u001b[0m\u001b[0;34m,\u001b[0m \u001b[0;34m''\u001b[0m\u001b[0;34m,\u001b[0m \u001b[0;34m'cd /mnt/c/Users/asul0/Documents\\nsource activate chip\\nfastqc ./sample_fastq/\\n'\u001b[0m\u001b[0;34m)\u001b[0m\u001b[0;34m\u001b[0m\u001b[0m\n\u001b[0m",
      "\u001b[0;32m~/.local/lib/python3.6/site-packages/IPython/core/interactiveshell.py\u001b[0m in \u001b[0;36mrun_cell_magic\u001b[0;34m(self, magic_name, line, cell)\u001b[0m\n\u001b[1;32m   2319\u001b[0m             \u001b[0mmagic_arg_s\u001b[0m \u001b[0;34m=\u001b[0m \u001b[0mself\u001b[0m\u001b[0;34m.\u001b[0m\u001b[0mvar_expand\u001b[0m\u001b[0;34m(\u001b[0m\u001b[0mline\u001b[0m\u001b[0;34m,\u001b[0m \u001b[0mstack_depth\u001b[0m\u001b[0;34m)\u001b[0m\u001b[0;34m\u001b[0m\u001b[0m\n\u001b[1;32m   2320\u001b[0m             \u001b[0;32mwith\u001b[0m \u001b[0mself\u001b[0m\u001b[0;34m.\u001b[0m\u001b[0mbuiltin_trap\u001b[0m\u001b[0;34m:\u001b[0m\u001b[0;34m\u001b[0m\u001b[0m\n\u001b[0;32m-> 2321\u001b[0;31m                 \u001b[0mresult\u001b[0m \u001b[0;34m=\u001b[0m \u001b[0mfn\u001b[0m\u001b[0;34m(\u001b[0m\u001b[0mmagic_arg_s\u001b[0m\u001b[0;34m,\u001b[0m \u001b[0mcell\u001b[0m\u001b[0;34m)\u001b[0m\u001b[0;34m\u001b[0m\u001b[0m\n\u001b[0m\u001b[1;32m   2322\u001b[0m             \u001b[0;32mreturn\u001b[0m \u001b[0mresult\u001b[0m\u001b[0;34m\u001b[0m\u001b[0m\n\u001b[1;32m   2323\u001b[0m \u001b[0;34m\u001b[0m\u001b[0m\n",
      "\u001b[0;32m~/.local/lib/python3.6/site-packages/IPython/core/magics/script.py\u001b[0m in \u001b[0;36mnamed_script_magic\u001b[0;34m(line, cell)\u001b[0m\n\u001b[1;32m    140\u001b[0m             \u001b[0;32melse\u001b[0m\u001b[0;34m:\u001b[0m\u001b[0;34m\u001b[0m\u001b[0m\n\u001b[1;32m    141\u001b[0m                 \u001b[0mline\u001b[0m \u001b[0;34m=\u001b[0m \u001b[0mscript\u001b[0m\u001b[0;34m\u001b[0m\u001b[0m\n\u001b[0;32m--> 142\u001b[0;31m             \u001b[0;32mreturn\u001b[0m \u001b[0mself\u001b[0m\u001b[0;34m.\u001b[0m\u001b[0mshebang\u001b[0m\u001b[0;34m(\u001b[0m\u001b[0mline\u001b[0m\u001b[0;34m,\u001b[0m \u001b[0mcell\u001b[0m\u001b[0;34m)\u001b[0m\u001b[0;34m\u001b[0m\u001b[0m\n\u001b[0m\u001b[1;32m    143\u001b[0m \u001b[0;34m\u001b[0m\u001b[0m\n\u001b[1;32m    144\u001b[0m         \u001b[0;31m# write a basic docstring:\u001b[0m\u001b[0;34m\u001b[0m\u001b[0;34m\u001b[0m\u001b[0m\n",
      "\u001b[0;32m<decorator-gen-109>\u001b[0m in \u001b[0;36mshebang\u001b[0;34m(self, line, cell)\u001b[0m\n",
      "\u001b[0;32m~/.local/lib/python3.6/site-packages/IPython/core/magic.py\u001b[0m in \u001b[0;36m<lambda>\u001b[0;34m(f, *a, **k)\u001b[0m\n\u001b[1;32m    185\u001b[0m     \u001b[0;31m# but it's overkill for just that one bit of state.\u001b[0m\u001b[0;34m\u001b[0m\u001b[0;34m\u001b[0m\u001b[0m\n\u001b[1;32m    186\u001b[0m     \u001b[0;32mdef\u001b[0m \u001b[0mmagic_deco\u001b[0m\u001b[0;34m(\u001b[0m\u001b[0marg\u001b[0m\u001b[0;34m)\u001b[0m\u001b[0;34m:\u001b[0m\u001b[0;34m\u001b[0m\u001b[0m\n\u001b[0;32m--> 187\u001b[0;31m         \u001b[0mcall\u001b[0m \u001b[0;34m=\u001b[0m \u001b[0;32mlambda\u001b[0m \u001b[0mf\u001b[0m\u001b[0;34m,\u001b[0m \u001b[0;34m*\u001b[0m\u001b[0ma\u001b[0m\u001b[0;34m,\u001b[0m \u001b[0;34m**\u001b[0m\u001b[0mk\u001b[0m\u001b[0;34m:\u001b[0m \u001b[0mf\u001b[0m\u001b[0;34m(\u001b[0m\u001b[0;34m*\u001b[0m\u001b[0ma\u001b[0m\u001b[0;34m,\u001b[0m \u001b[0;34m**\u001b[0m\u001b[0mk\u001b[0m\u001b[0;34m)\u001b[0m\u001b[0;34m\u001b[0m\u001b[0m\n\u001b[0m\u001b[1;32m    188\u001b[0m \u001b[0;34m\u001b[0m\u001b[0m\n\u001b[1;32m    189\u001b[0m         \u001b[0;32mif\u001b[0m \u001b[0mcallable\u001b[0m\u001b[0;34m(\u001b[0m\u001b[0marg\u001b[0m\u001b[0;34m)\u001b[0m\u001b[0;34m:\u001b[0m\u001b[0;34m\u001b[0m\u001b[0m\n",
      "\u001b[0;32m~/.local/lib/python3.6/site-packages/IPython/core/magics/script.py\u001b[0m in \u001b[0;36mshebang\u001b[0;34m(self, line, cell)\u001b[0m\n\u001b[1;32m    243\u001b[0m             \u001b[0msys\u001b[0m\u001b[0;34m.\u001b[0m\u001b[0mstderr\u001b[0m\u001b[0;34m.\u001b[0m\u001b[0mflush\u001b[0m\u001b[0;34m(\u001b[0m\u001b[0;34m)\u001b[0m\u001b[0;34m\u001b[0m\u001b[0m\n\u001b[1;32m    244\u001b[0m         \u001b[0;32mif\u001b[0m \u001b[0margs\u001b[0m\u001b[0;34m.\u001b[0m\u001b[0mraise_error\u001b[0m \u001b[0;32mand\u001b[0m \u001b[0mp\u001b[0m\u001b[0;34m.\u001b[0m\u001b[0mreturncode\u001b[0m\u001b[0;34m!=\u001b[0m\u001b[0;36m0\u001b[0m\u001b[0;34m:\u001b[0m\u001b[0;34m\u001b[0m\u001b[0m\n\u001b[0;32m--> 245\u001b[0;31m             \u001b[0;32mraise\u001b[0m \u001b[0mCalledProcessError\u001b[0m\u001b[0;34m(\u001b[0m\u001b[0mp\u001b[0m\u001b[0;34m.\u001b[0m\u001b[0mreturncode\u001b[0m\u001b[0;34m,\u001b[0m \u001b[0mcell\u001b[0m\u001b[0;34m,\u001b[0m \u001b[0moutput\u001b[0m\u001b[0;34m=\u001b[0m\u001b[0mout\u001b[0m\u001b[0;34m,\u001b[0m \u001b[0mstderr\u001b[0m\u001b[0;34m=\u001b[0m\u001b[0merr\u001b[0m\u001b[0;34m)\u001b[0m\u001b[0;34m\u001b[0m\u001b[0m\n\u001b[0m\u001b[1;32m    246\u001b[0m \u001b[0;34m\u001b[0m\u001b[0m\n\u001b[1;32m    247\u001b[0m     \u001b[0;32mdef\u001b[0m \u001b[0m_run_script\u001b[0m\u001b[0;34m(\u001b[0m\u001b[0mself\u001b[0m\u001b[0;34m,\u001b[0m \u001b[0mp\u001b[0m\u001b[0;34m,\u001b[0m \u001b[0mcell\u001b[0m\u001b[0;34m,\u001b[0m \u001b[0mto_close\u001b[0m\u001b[0;34m)\u001b[0m\u001b[0;34m:\u001b[0m\u001b[0;34m\u001b[0m\u001b[0m\n",
      "\u001b[0;31mCalledProcessError\u001b[0m: Command 'b'cd /mnt/c/Users/asul0/Documents\\nsource activate chip\\nfastqc ./sample_fastq/\\n'' returned non-zero exit status 1."
     ]
    }
   ],
   "source": [
    "%%bash \n",
    "cd /mnt/c/Users/asul0/Documents\n",
    "source activate chip\n",
    "fastqc ./sample_fastq/"
   ]
  },
  {
   "cell_type": "code",
   "execution_count": null,
   "metadata": {},
   "outputs": [],
   "source": []
  }
 ],
 "metadata": {
  "kernelspec": {
   "display_name": "Python 3",
   "language": "python",
   "name": "python3"
  },
  "language_info": {
   "codemirror_mode": {
    "name": "ipython",
    "version": 2
   },
   "file_extension": ".py",
   "mimetype": "text/x-python",
   "name": "python",
   "nbconvert_exporter": "python",
   "pygments_lexer": "ipython2",
   "version": "2.7.15"
  }
 },
 "nbformat": 4,
 "nbformat_minor": 2
}
