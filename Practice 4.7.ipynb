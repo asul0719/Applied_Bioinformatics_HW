{
 "cells": [
  {
   "cell_type": "markdown",
   "metadata": {},
   "source": [
    "#1.\n",
    "no flag is defined for narrowpeaks. \n",
    "8th column of gappedPeak file is the end \n",
    "the flg used for the control file is -c\n",
    "\n",
    "#2.\n",
    "paired-end example: -1 and -2 are the flag for using fast1 input file for alignment. \n",
    "no. \n",
    "\n",
    "#3. \n",
    "the difference between gff and gtf format is that gtf is an extension to gff/gtf has more attributes \n",
    "continuous data for genome browser"
   ]
  }
 ],
 "metadata": {
  "kernelspec": {
   "display_name": "Python 3",
   "language": "python",
   "name": "python3"
  },
  "language_info": {
   "codemirror_mode": {
    "name": "ipython",
    "version": 3
   },
   "file_extension": ".py",
   "mimetype": "text/x-python",
   "name": "python",
   "nbconvert_exporter": "python",
   "pygments_lexer": "ipython3",
   "version": "3.6.6"
  }
 },
 "nbformat": 4,
 "nbformat_minor": 2
}
