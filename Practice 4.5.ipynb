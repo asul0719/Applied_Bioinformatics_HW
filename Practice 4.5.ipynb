{
 "cells": [
  {
   "cell_type": "code",
   "execution_count": null,
   "metadata": {},
   "outputs": [],
   "source": [
    "%%bash\n",
    "cd /mnt/c/Users/asul0/Documents/Applied_Bioinformatics_HW/ChIP-seq.3\n",
    "bedtools intersect -abam SRR3001750_srt_dupr.chr2.chr11.bam -b mm10.blacklist.bed -v > SRR3001750_srt_dupr.chr10_flb.bam"
   ]
  },
  {
   "cell_type": "code",
   "execution_count": 1,
   "metadata": {},
   "outputs": [
    {
     "name": "stdout",
     "output_type": "stream",
     "text": [
      "-rwxrwxrwx 1 amsul amsul 98M Nov 13 09:20 SRR3001750_srt_dupr.chr10_flb.bam\n",
      "-rwxrwxrwx 1 amsul amsul 98M Nov 13 08:51 SRR3001750_srt_dupr.chr2.chr11.bam\n"
     ]
    }
   ],
   "source": [
    "%%bash\n",
    "cd /mnt/c/Users/asul0/Documents/Applied_Bioinformatics_HW/ChIP-seq.3\n",
    "ls -lh SRR3001750_srt_dupr*"
   ]
  },
  {
   "cell_type": "code",
   "execution_count": 2,
   "metadata": {},
   "outputs": [],
   "source": [
    "%%bash\n",
    "cd /mnt/c/Users/asul0/Documents/Applied_Bioinformatics_HW/ChIP-seq.3\n",
    "samtools view -h SRR3001750_srt_dupr.chr10_flb.bam | awk '{if ($3!=\"chrM\") {print $0}}' > SRR3001750_srt_dupr.chr10_flb_flt.sam\n",
    "samtools view -bS SRR3001750_srt_dupr.chr10_flb_flt.sam > SRR3001750_srt_dupr.chr10_flb_flt.bam\n",
    "rm SRR3001750_srt_dupr.chr10_flb_flt.sam"
   ]
  },
  {
   "cell_type": "code",
   "execution_count": 3,
   "metadata": {},
   "outputs": [],
   "source": [
    "%%bash\n",
    "cd /mnt/c/Users/asul0/Documents/Applied_Bioinformatics_HW/ChIP-seq.3\n",
    "macs2 predictd -i SRR3001750_srt_dupr.chr10_flb_flt.bam &> SRR3001750_srt_dupr.chr10_flb_flt.predictd"
   ]
  },
  {
   "cell_type": "code",
   "execution_count": 4,
   "metadata": {},
   "outputs": [
    {
     "name": "stderr",
     "output_type": "stream",
     "text": [
      "INFO  @ Tue, 13 Nov 2018 09:26:29: \n",
      "# Command line: callpeak -t SRR3001750_srt_dupr.chr10_flb_flt.bam -f BAM -n SRR3001750_srt_dupr.chr10 -g mm -p 1e-2 --broad --nomodel --bdg --shift 0 --extsize 147 --keep-dup all\n",
      "# ARGUMENTS LIST:\n",
      "# name = SRR3001750_srt_dupr.chr10\n",
      "# format = BAM\n",
      "# ChIP-seq file = ['SRR3001750_srt_dupr.chr10_flb_flt.bam']\n",
      "# control file = None\n",
      "# effective genome size = 1.87e+09\n",
      "# band width = 300\n",
      "# model fold = [5, 50]\n",
      "# pvalue cutoff for narrow/strong regions = 1.00e-02\n",
      "# pvalue cutoff for broad/weak regions = 1.00e-01\n",
      "# qvalue will not be calculated and reported as -1 in the final output.\n",
      "# Larger dataset will be scaled towards smaller dataset.\n",
      "# Range for calculating regional lambda is: 10000 bps\n",
      "# Broad region calling is on\n",
      "# Paired-End mode is off\n",
      " \n",
      "INFO  @ Tue, 13 Nov 2018 09:26:29: #1 read tag files... \n",
      "INFO  @ Tue, 13 Nov 2018 09:26:29: #1 read treatment tags... \n",
      "INFO  @ Tue, 13 Nov 2018 09:26:38:  1000000 \n",
      "INFO  @ Tue, 13 Nov 2018 09:26:44: #1 tag size is determined as 49 bps \n",
      "INFO  @ Tue, 13 Nov 2018 09:26:44: #1 tag size = 49 \n",
      "INFO  @ Tue, 13 Nov 2018 09:26:44: #1  total tags in treatment: 1667946 \n",
      "INFO  @ Tue, 13 Nov 2018 09:26:44: #1 finished! \n",
      "INFO  @ Tue, 13 Nov 2018 09:26:44: #2 Build Peak Model... \n",
      "INFO  @ Tue, 13 Nov 2018 09:26:44: #2 Skipped... \n",
      "INFO  @ Tue, 13 Nov 2018 09:26:44: #2 Use 147 as fragment length \n",
      "INFO  @ Tue, 13 Nov 2018 09:26:44: #3 Call peaks... \n",
      "INFO  @ Tue, 13 Nov 2018 09:26:44: #3 Call broad peaks with given level1 -log10pvalue cutoff and level2: 2.00000, 1.00000... \n",
      "INFO  @ Tue, 13 Nov 2018 09:26:44: #3 Pre-compute pvalue-qvalue table... \n",
      "INFO  @ Tue, 13 Nov 2018 09:26:52: #3 In the peak calling step, the following will be performed simultaneously: \n",
      "INFO  @ Tue, 13 Nov 2018 09:26:52: #3   Write bedGraph files for treatment pileup (after scaling if necessary)... SRR3001750_srt_dupr.chr10_treat_pileup.bdg \n",
      "INFO  @ Tue, 13 Nov 2018 09:26:52: #3   Write bedGraph files for control lambda (after scaling if necessary)... SRR3001750_srt_dupr.chr10_control_lambda.bdg \n",
      "INFO  @ Tue, 13 Nov 2018 09:26:52: #3 Call peaks for each chromosome... \n",
      "INFO  @ Tue, 13 Nov 2018 09:27:34: #4 Write output xls file... SRR3001750_srt_dupr.chr10_peaks.xls \n",
      "INFO  @ Tue, 13 Nov 2018 09:27:36: #4 Write broad peak in broadPeak format file... SRR3001750_srt_dupr.chr10_peaks.broadPeak \n",
      "INFO  @ Tue, 13 Nov 2018 09:27:37: #4 Write broad peak in bed12/gappedPeak format file... SRR3001750_srt_dupr.chr10_peaks.gappedPeak \n",
      "INFO  @ Tue, 13 Nov 2018 09:27:37: Done! \n"
     ]
    }
   ],
   "source": [
    "%%bash\n",
    "cd /mnt/c/Users/asul0/Documents/Applied_Bioinformatics_HW/ChIP-seq.3\n",
    "macs2 callpeak -t SRR3001750_srt_dupr.chr10_flb_flt.bam -f BAM -n SRR3001750_srt_dupr.chr10 -g mm -p 1e-2 --broad --nomodel --bdg --shift 0 --extsize 147 --keep-dup all "
   ]
  },
  {
   "cell_type": "code",
   "execution_count": 7,
   "metadata": {},
   "outputs": [
    {
     "name": "stdout",
     "output_type": "stream",
     "text": [
      "  3285073 SRR3001750_srt_dupr.chr10_control_lambda.bdg\n",
      "       18 SRR3001750_srt_dupr.chr10_flb_flt.predictd\n",
      "   120586 SRR3001750_srt_dupr.chr10_peaks.broadPeak\n",
      "   120586 SRR3001750_srt_dupr.chr10_peaks.gappedPeak\n",
      "   120608 SRR3001750_srt_dupr.chr10_peaks.xls\n",
      "  3274749 SRR3001750_srt_dupr.chr10_treat_pileup.bdg\n",
      "  6921620 total\n"
     ]
    }
   ],
   "source": [
    "%%bash\n",
    "cd /mnt/c/Users/asul0/Documents/Applied_Bioinformatics_HW/ChIP-seq.3/MACS2\n",
    "wc -l *"
   ]
  },
  {
   "cell_type": "code",
   "execution_count": 9,
   "metadata": {},
   "outputs": [
    {
     "name": "stdout",
     "output_type": "stream",
     "text": [
      "chr11\t3100344\t3104796\tSRR3001750_srt_dupr.chr10_peak_1\t35\t.\t2.80190\t6.25895\t3.52085\n",
      "chr11\t3106853\t3107002\tSRR3001750_srt_dupr.chr10_peak_2\t7\t.\t2.00168\t2.16457\t0.73608\n",
      "chr11\t3112273\t3113851\tSRR3001750_srt_dupr.chr10_peak_3\t6\t.\t2.14515\t1.99585\t0.69193\n",
      "chr11\t3114494\t3115651\tSRR3001750_srt_dupr.chr10_peak_4\t12\t.\t2.88502\t3.18291\t1.21246\n",
      "chr11\t3117596\t3117743\tSRR3001750_srt_dupr.chr10_peak_5\t5\t.\t1.94322\t1.66785\t0.55310\n",
      "chr11\t3118845\t3119359\tSRR3001750_srt_dupr.chr10_peak_6\t6\t.\t1.98141\t1.83885\t0.62114\n",
      "chr11\t3125426\t3129535\tSRR3001750_srt_dupr.chr10_peak_7\t21\t.\t1.75859\t4.70931\t2.19365\n",
      "chr11\t3130943\t3135775\tSRR3001750_srt_dupr.chr10_peak_8\t9\t.\t1.41238\t2.53377\t0.96027\n",
      "chr11\t3136482\t3137703\tSRR3001750_srt_dupr.chr10_peak_9\t8\t.\t1.43226\t2.48031\t0.88569\n",
      "chr11\t3139576\t3140021\tSRR3001750_srt_dupr.chr10_peak_10\t4\t.\t1.28025\t1.45590\t0.48713\n"
     ]
    }
   ],
   "source": [
    "%%bash\n",
    "cd /mnt/c/Users/asul0/Documents/Applied_Bioinformatics_HW/ChIP-seq.3/MACS2\n",
    "head SRR3001750_srt_dupr.chr10_peaks.broadPeak"
   ]
  },
  {
   "cell_type": "code",
   "execution_count": 10,
   "metadata": {},
   "outputs": [
    {
     "name": "stdout",
     "output_type": "stream",
     "text": [
      "chr11\t3100344\t3104796\tSRR3001750_srt_dupr.chr10_peak_1\t35\t.\t3100344\t3104796\t0\t8\t1,293,311,701,176,325,155,1\t0,9,795,1283,2519,3446,4257,4451\t2.80190\t6.25895\t3.52085\n",
      "chr11\t3106853\t3107002\tSRR3001750_srt_dupr.chr10_peak_2\t7\t.\t3106853\t3107002\t0\t2\t1,1\t0,148\t2.00168\t2.16457\t0.73608\n",
      "chr11\t3112273\t3113851\tSRR3001750_srt_dupr.chr10_peak_3\t6\t.\t3112273\t3113851\t0\t2\t1,1\t0,1577\t2.14515\t1.99585\t0.69193\n",
      "chr11\t3114494\t3115651\tSRR3001750_srt_dupr.chr10_peak_4\t12\t.\t3114494\t3115651\t0\t4\t1,147,163,1\t0,5,993,1156\t2.88502\t3.18291\t1.21246\n",
      "chr11\t3117596\t3117743\tSRR3001750_srt_dupr.chr10_peak_5\t5\t.\t3117596\t3117743\t0\t2\t1,1\t0,146\t1.94322\t1.66785\t0.55310\n",
      "chr11\t3118845\t3119359\tSRR3001750_srt_dupr.chr10_peak_6\t6\t.\t3118845\t3119359\t0\t2\t1,1\t0,513\t1.98141\t1.83885\t0.62114\n",
      "chr11\t3125426\t3129535\tSRR3001750_srt_dupr.chr10_peak_7\t21\t.\t3125426\t3129535\t0\t6\t1,583,699,236,401,1\t0,79,1539,2416,2775,4108\t1.75859\t4.70931\t2.19365\n",
      "chr11\t3130943\t3135775\tSRR3001750_srt_dupr.chr10_peak_8\t9\t.\t3130943\t3135775\t0\t4\t1,362,181,1\t0,1087,2594,4831\t1.41238\t2.53377\t0.96027\n",
      "chr11\t3136482\t3137703\tSRR3001750_srt_dupr.chr10_peak_9\t8\t.\t3136482\t3137703\t0\t4\t1,293,385,1\t0,85,793,1220\t1.43226\t2.48031\t0.88569\n",
      "chr11\t3139576\t3140021\tSRR3001750_srt_dupr.chr10_peak_10\t4\t.\t3139576\t3140021\t0\t2\t1,1\t0,444\t1.28025\t1.45590\t0.48713\n"
     ]
    }
   ],
   "source": [
    "%%bash\n",
    "cd /mnt/c/Users/asul0/Documents/Applied_Bioinformatics_HW/ChIP-seq.3/MACS2\n",
    "head SRR3001750_srt_dupr.chr10_peaks.gappedPeak"
   ]
  },
  {
   "cell_type": "code",
   "execution_count": 11,
   "metadata": {},
   "outputs": [
    {
     "name": "stdout",
     "output_type": "stream",
     "text": [
      "chr11\t0\t3099930\t0.00000\n",
      "chr11\t3099930\t3099938\t1.00000\n",
      "chr11\t3099938\t3100077\t2.00000\n",
      "chr11\t3100077\t3100085\t1.00000\n",
      "chr11\t3100085\t3100152\t0.00000\n",
      "chr11\t3100152\t3100177\t1.00000\n",
      "chr11\t3100177\t3100184\t2.00000\n",
      "chr11\t3100184\t3100254\t3.00000\n",
      "chr11\t3100254\t3100287\t4.00000\n",
      "chr11\t3100287\t3100299\t5.00000\n"
     ]
    }
   ],
   "source": [
    "%%bash\n",
    "cd /mnt/c/Users/asul0/Documents/Applied_Bioinformatics_HW/ChIP-seq.3/MACS2\n",
    "head SRR3001750_srt_dupr.chr10_treat_pileup.bdg"
   ]
  },
  {
   "cell_type": "code",
   "execution_count": 14,
   "metadata": {
    "scrolled": true
   },
   "outputs": [
    {
     "name": "stderr",
     "output_type": "stream",
     "text": [
      "bedGraphToBigWig v 4 - Convert a bedGraph file to bigWig format.\n",
      "usage:\n",
      "   bedGraphToBigWig in.bedGraph chrom.sizes out.bw\n",
      "where in.bedGraph is a four column file in the format:\n",
      "      <chrom> <start> <end> <value>\n",
      "and chrom.sizes is a two-column file/URL: <chromosome name> <size in bases>\n",
      "and out.bw is the output indexed big wig file.\n",
      "If the assembly <db> is hosted by UCSC, chrom.sizes can be a URL like\n",
      "  http://hgdownload.cse.ucsc.edu/goldenPath/<db>/bigZips/<db>.chrom.sizes\n",
      "or you may use the script fetchChromSizes to download the chrom.sizes file.\n",
      "If not hosted by UCSC, a chrom.sizes file can be generated by running\n",
      "twoBitInfo on the assembly .2bit file.\n",
      "The input bedGraph file must be sorted, use the unix sort command:\n",
      "  sort -k1,1 -k2,2n unsorted.bedGraph > sorted.bedGraph\n",
      "options:\n",
      "   -blockSize=N - Number of items to bundle in r-tree.  Default 256\n",
      "   -itemsPerSlot=N - Number of data points bundled at lowest level. Default 1024\n",
      "   -unc - If set, do not use compression.\n"
     ]
    },
    {
     "ename": "CalledProcessError",
     "evalue": "Command 'b'cd /mnt/c/Users/asul0/Documents/Applied_Bioinformatics_HW/ChIP-seq.3/MACS2\\nbedGraphToBigWig SRR3001750_srt_dupr.chr10_treat_pileup.bdg SRR3001750_srt_dupr.chr10_treat_pileup.bw \\n'' returned non-zero exit status 255.",
     "output_type": "error",
     "traceback": [
      "\u001b[0;31m---------------------------------------------------------------------------\u001b[0m",
      "\u001b[0;31mCalledProcessError\u001b[0m                        Traceback (most recent call last)",
      "\u001b[0;32m<ipython-input-14-05a79cc6fc3d>\u001b[0m in \u001b[0;36m<module>\u001b[0;34m\u001b[0m\n\u001b[0;32m----> 1\u001b[0;31m \u001b[0mget_ipython\u001b[0m\u001b[0;34m(\u001b[0m\u001b[0;34m)\u001b[0m\u001b[0;34m.\u001b[0m\u001b[0mrun_cell_magic\u001b[0m\u001b[0;34m(\u001b[0m\u001b[0;34m'bash'\u001b[0m\u001b[0;34m,\u001b[0m \u001b[0;34m''\u001b[0m\u001b[0;34m,\u001b[0m \u001b[0;34m'cd /mnt/c/Users/asul0/Documents/Applied_Bioinformatics_HW/ChIP-seq.3/MACS2\\nbedGraphToBigWig SRR3001750_srt_dupr.chr10_treat_pileup.bdg SRR3001750_srt_dupr.chr10_treat_pileup.bw \\n'\u001b[0m\u001b[0;34m)\u001b[0m\u001b[0;34m\u001b[0m\u001b[0m\n\u001b[0m",
      "\u001b[0;32m~/.local/lib/python3.6/site-packages/IPython/core/interactiveshell.py\u001b[0m in \u001b[0;36mrun_cell_magic\u001b[0;34m(self, magic_name, line, cell)\u001b[0m\n\u001b[1;32m   2319\u001b[0m             \u001b[0mmagic_arg_s\u001b[0m \u001b[0;34m=\u001b[0m \u001b[0mself\u001b[0m\u001b[0;34m.\u001b[0m\u001b[0mvar_expand\u001b[0m\u001b[0;34m(\u001b[0m\u001b[0mline\u001b[0m\u001b[0;34m,\u001b[0m \u001b[0mstack_depth\u001b[0m\u001b[0;34m)\u001b[0m\u001b[0;34m\u001b[0m\u001b[0m\n\u001b[1;32m   2320\u001b[0m             \u001b[0;32mwith\u001b[0m \u001b[0mself\u001b[0m\u001b[0;34m.\u001b[0m\u001b[0mbuiltin_trap\u001b[0m\u001b[0;34m:\u001b[0m\u001b[0;34m\u001b[0m\u001b[0m\n\u001b[0;32m-> 2321\u001b[0;31m                 \u001b[0mresult\u001b[0m \u001b[0;34m=\u001b[0m \u001b[0mfn\u001b[0m\u001b[0;34m(\u001b[0m\u001b[0mmagic_arg_s\u001b[0m\u001b[0;34m,\u001b[0m \u001b[0mcell\u001b[0m\u001b[0;34m)\u001b[0m\u001b[0;34m\u001b[0m\u001b[0m\n\u001b[0m\u001b[1;32m   2322\u001b[0m             \u001b[0;32mreturn\u001b[0m \u001b[0mresult\u001b[0m\u001b[0;34m\u001b[0m\u001b[0m\n\u001b[1;32m   2323\u001b[0m \u001b[0;34m\u001b[0m\u001b[0m\n",
      "\u001b[0;32m~/.local/lib/python3.6/site-packages/IPython/core/magics/script.py\u001b[0m in \u001b[0;36mnamed_script_magic\u001b[0;34m(line, cell)\u001b[0m\n\u001b[1;32m    140\u001b[0m             \u001b[0;32melse\u001b[0m\u001b[0;34m:\u001b[0m\u001b[0;34m\u001b[0m\u001b[0m\n\u001b[1;32m    141\u001b[0m                 \u001b[0mline\u001b[0m \u001b[0;34m=\u001b[0m \u001b[0mscript\u001b[0m\u001b[0;34m\u001b[0m\u001b[0m\n\u001b[0;32m--> 142\u001b[0;31m             \u001b[0;32mreturn\u001b[0m \u001b[0mself\u001b[0m\u001b[0;34m.\u001b[0m\u001b[0mshebang\u001b[0m\u001b[0;34m(\u001b[0m\u001b[0mline\u001b[0m\u001b[0;34m,\u001b[0m \u001b[0mcell\u001b[0m\u001b[0;34m)\u001b[0m\u001b[0;34m\u001b[0m\u001b[0m\n\u001b[0m\u001b[1;32m    143\u001b[0m \u001b[0;34m\u001b[0m\u001b[0m\n\u001b[1;32m    144\u001b[0m         \u001b[0;31m# write a basic docstring:\u001b[0m\u001b[0;34m\u001b[0m\u001b[0;34m\u001b[0m\u001b[0m\n",
      "\u001b[0;32m<decorator-gen-109>\u001b[0m in \u001b[0;36mshebang\u001b[0;34m(self, line, cell)\u001b[0m\n",
      "\u001b[0;32m~/.local/lib/python3.6/site-packages/IPython/core/magic.py\u001b[0m in \u001b[0;36m<lambda>\u001b[0;34m(f, *a, **k)\u001b[0m\n\u001b[1;32m    185\u001b[0m     \u001b[0;31m# but it's overkill for just that one bit of state.\u001b[0m\u001b[0;34m\u001b[0m\u001b[0;34m\u001b[0m\u001b[0m\n\u001b[1;32m    186\u001b[0m     \u001b[0;32mdef\u001b[0m \u001b[0mmagic_deco\u001b[0m\u001b[0;34m(\u001b[0m\u001b[0marg\u001b[0m\u001b[0;34m)\u001b[0m\u001b[0;34m:\u001b[0m\u001b[0;34m\u001b[0m\u001b[0m\n\u001b[0;32m--> 187\u001b[0;31m         \u001b[0mcall\u001b[0m \u001b[0;34m=\u001b[0m \u001b[0;32mlambda\u001b[0m \u001b[0mf\u001b[0m\u001b[0;34m,\u001b[0m \u001b[0;34m*\u001b[0m\u001b[0ma\u001b[0m\u001b[0;34m,\u001b[0m \u001b[0;34m**\u001b[0m\u001b[0mk\u001b[0m\u001b[0;34m:\u001b[0m \u001b[0mf\u001b[0m\u001b[0;34m(\u001b[0m\u001b[0;34m*\u001b[0m\u001b[0ma\u001b[0m\u001b[0;34m,\u001b[0m \u001b[0;34m**\u001b[0m\u001b[0mk\u001b[0m\u001b[0;34m)\u001b[0m\u001b[0;34m\u001b[0m\u001b[0m\n\u001b[0m\u001b[1;32m    188\u001b[0m \u001b[0;34m\u001b[0m\u001b[0m\n\u001b[1;32m    189\u001b[0m         \u001b[0;32mif\u001b[0m \u001b[0mcallable\u001b[0m\u001b[0;34m(\u001b[0m\u001b[0marg\u001b[0m\u001b[0;34m)\u001b[0m\u001b[0;34m:\u001b[0m\u001b[0;34m\u001b[0m\u001b[0m\n",
      "\u001b[0;32m~/.local/lib/python3.6/site-packages/IPython/core/magics/script.py\u001b[0m in \u001b[0;36mshebang\u001b[0;34m(self, line, cell)\u001b[0m\n\u001b[1;32m    243\u001b[0m             \u001b[0msys\u001b[0m\u001b[0;34m.\u001b[0m\u001b[0mstderr\u001b[0m\u001b[0;34m.\u001b[0m\u001b[0mflush\u001b[0m\u001b[0;34m(\u001b[0m\u001b[0;34m)\u001b[0m\u001b[0;34m\u001b[0m\u001b[0m\n\u001b[1;32m    244\u001b[0m         \u001b[0;32mif\u001b[0m \u001b[0margs\u001b[0m\u001b[0;34m.\u001b[0m\u001b[0mraise_error\u001b[0m \u001b[0;32mand\u001b[0m \u001b[0mp\u001b[0m\u001b[0;34m.\u001b[0m\u001b[0mreturncode\u001b[0m\u001b[0;34m!=\u001b[0m\u001b[0;36m0\u001b[0m\u001b[0;34m:\u001b[0m\u001b[0;34m\u001b[0m\u001b[0m\n\u001b[0;32m--> 245\u001b[0;31m             \u001b[0;32mraise\u001b[0m \u001b[0mCalledProcessError\u001b[0m\u001b[0;34m(\u001b[0m\u001b[0mp\u001b[0m\u001b[0;34m.\u001b[0m\u001b[0mreturncode\u001b[0m\u001b[0;34m,\u001b[0m \u001b[0mcell\u001b[0m\u001b[0;34m,\u001b[0m \u001b[0moutput\u001b[0m\u001b[0;34m=\u001b[0m\u001b[0mout\u001b[0m\u001b[0;34m,\u001b[0m \u001b[0mstderr\u001b[0m\u001b[0;34m=\u001b[0m\u001b[0merr\u001b[0m\u001b[0;34m)\u001b[0m\u001b[0;34m\u001b[0m\u001b[0m\n\u001b[0m\u001b[1;32m    246\u001b[0m \u001b[0;34m\u001b[0m\u001b[0m\n\u001b[1;32m    247\u001b[0m     \u001b[0;32mdef\u001b[0m \u001b[0m_run_script\u001b[0m\u001b[0;34m(\u001b[0m\u001b[0mself\u001b[0m\u001b[0;34m,\u001b[0m \u001b[0mp\u001b[0m\u001b[0;34m,\u001b[0m \u001b[0mcell\u001b[0m\u001b[0;34m,\u001b[0m \u001b[0mto_close\u001b[0m\u001b[0;34m)\u001b[0m\u001b[0;34m:\u001b[0m\u001b[0;34m\u001b[0m\u001b[0m\n",
      "\u001b[0;31mCalledProcessError\u001b[0m: Command 'b'cd /mnt/c/Users/asul0/Documents/Applied_Bioinformatics_HW/ChIP-seq.3/MACS2\\nbedGraphToBigWig SRR3001750_srt_dupr.chr10_treat_pileup.bdg SRR3001750_srt_dupr.chr10_treat_pileup.bw \\n'' returned non-zero exit status 255."
     ]
    }
   ],
   "source": [
    "%%bash\n",
    "cd /mnt/c/Users/asul0/Documents/Applied_Bioinformatics_HW/ChIP-seq.3/MACS2\n",
    "bedGraphToBigWig SRR3001750_srt_dupr.chr10_treat_pileup.bdg SRR3001750_srt_dupr.chr10_treat_pileup.bw "
   ]
  },
  {
   "cell_type": "code",
   "execution_count": null,
   "metadata": {},
   "outputs": [],
   "source": []
  }
 ],
 "metadata": {
  "kernelspec": {
   "display_name": "Python 3",
   "language": "python",
   "name": "python3"
  },
  "language_info": {
   "codemirror_mode": {
    "name": "ipython",
    "version": 2
   },
   "file_extension": ".py",
   "mimetype": "text/x-python",
   "name": "python",
   "nbconvert_exporter": "python",
   "pygments_lexer": "ipython2",
   "version": "2.7.15"
  }
 },
 "nbformat": 4,
 "nbformat_minor": 2
}
