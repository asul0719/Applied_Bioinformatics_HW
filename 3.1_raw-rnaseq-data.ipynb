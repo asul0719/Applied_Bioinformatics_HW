{
 "cells": [
  {
   "cell_type": "markdown",
   "metadata": {},
   "source": [
    "## Applied Bioinformatics Unit 2 Module 1: RNA-seq\n",
    "### Notebook 3.1: Raw data"
   ]
  },
  {
   "cell_type": "markdown",
   "metadata": {},
   "source": [
    "### Using the SRA toolkit to sample a raw file\n",
    "Use `fastq-dump` to print the first 5 'spots' of a run archive SRR5830139\n",
    "```\n",
    "# cd into directory containing the sratoolkit folder\n",
    "cd /mnt/c/Users/Jerry/Downloads\n",
    "\n",
    "sratoolkit.2.9.2-ubuntu64/bin/fastq-dump --split-files -X 5 -Z SRR5830139\n",
    "```"
   ]
  },
  {
   "cell_type": "code",
   "execution_count": 1,
   "metadata": {},
   "outputs": [
    {
     "name": "stdout",
     "output_type": "stream",
     "text": [
      "@SRR5454079.1 1 length=49\n",
      "NTCTTTCAGGTTTAGTTAGACGTCCTCCAAAAAGAGGCCANAANTCACC\n",
      "+SRR5454079.1 1 length=49\n",
      "#AAAFFJJJJJFAF-FAFAJJJ7JJFJJJJJJJJJJ<FJJ#JJ#JJJJJ\n",
      "@SRR5454079.2 2 length=50\n",
      "NTGCGCGTGCAGCCCCGGACATCTAAGGGCATCACAGACCNGTNATTGNT\n",
      "+SRR5454079.2 2 length=50\n",
      "#AAAFJJJJJJJJJJJJJJJJJFJJJJJFJJFJJJJJJJJ#JJ#JJJJ#J\n",
      "@SRR5454079.3 3 length=50\n",
      "NAAGATAATTGCTTTGGTCATCTGTAAGTCACTTTAGCCANTGNGTCTNC\n",
      "+SRR5454079.3 3 length=50\n",
      "#AAFFJJJJJJJJJJJJJJFJJJJJJJJJJJJJJJJJJJJ#JJ#JJJJ#J\n",
      "@SRR5454079.4 4 length=49\n",
      "NTGGATTGCCTGAGGTCAGGAATTCGAGGCCAGTCTGGCCNACNTGATN\n",
      "+SRR5454079.4 4 length=49\n",
      "#AAFFJJJJJJJJJJJJJJJJJJJJJJJJJJJJJJJJJJJ#JJ#JJJJ#\n",
      "@SRR5454079.5 5 length=50\n",
      "NGGCAATGCAAACAGCAATCCTACATAATGTAGAATAATTNTTNTTCTNT\n",
      "+SRR5454079.5 5 length=50\n",
      "#AAFFJJJJJJJJJJJJJJJJJJJJJJJJJJJJJJJJJJJ#JJ#JJJJ#J\n"
     ]
    },
    {
     "name": "stderr",
     "output_type": "stream",
     "text": [
      "Rejected 5 READS because READLEN < 1\n",
      "Read 5 spots for SRR5454079\n",
      "Written 5 spots for SRR5454079\n"
     ]
    }
   ],
   "source": [
    "%%bash\n",
    "cd /mnt/c/Users/asul0/\n",
    "./Documents/sratoolkit.2.9.2-ubuntu64/bin/fastq-dump --split-files -X 5 -Z SRR5454079"
   ]
  },
  {
   "cell_type": "markdown",
   "metadata": {},
   "source": [
    "### Writing to FASTQ from the SRA archive\n",
    "`fastq-dump` automatically downloads the .sra file and then writes out the reads in FASTQ format. \n",
    "NB: Watch out for the build up of .sra files on your HD!  \n",
    "\n",
    "Write the first 5 spots of SRR5454080 to FASTQ instead of standard out."
   ]
  },
  {
   "cell_type": "markdown",
   "metadata": {},
   "source": [
    "```\n",
    "%%bash\n",
    "cd /mnt/c/Users/Jerry/Downloads/\n",
    "sratoolkit.2.9.2-ubuntu64/bin/fastq-dump --split-files -X 5 SRR5454080\n",
    "ls -l SRR*\n",
    "```"
   ]
  },
  {
   "cell_type": "code",
   "execution_count": 4,
   "metadata": {},
   "outputs": [
    {
     "name": "stdout",
     "output_type": "stream",
     "text": [
      "Rejected 5 READS because READLEN < 1\n",
      "Read 5 spots for SRR5454080\n",
      "Written 5 spots for SRR5454080\n",
      "-rwxrwxrwx 1 amsul amsul 770 Oct 28 12:39 SRR5454080_1.fastq\n"
     ]
    }
   ],
   "source": [
    "%%bash\n",
    "cd /mnt/c/Users/asul0/Documents/\n",
    "sratoolkit.2.9.2-ubuntu64/bin/fastq-dump --split-files -X 5 SRR5454080\n",
    "ls -l SRR*"
   ]
  },
  {
   "cell_type": "markdown",
   "metadata": {},
   "source": [
    "### Why are we using `--split-files`?\n",
    "Try printing the first 5 spots of this run (to std out): SRR7167720  \n",
    "What do you notice about the reads?  "
   ]
  },
  {
   "cell_type": "markdown",
   "metadata": {},
   "source": [
    "```\n",
    "%%bash  \n",
    "cd /mnt/c/Users/Jerry/Downloads  \n",
    "sratoolkit.2.9.2-ubuntu64/bin/fastq-dump --split-files -X 5 -Z SRR7167720\n",
    "```"
   ]
  },
  {
   "cell_type": "code",
   "execution_count": 5,
   "metadata": {},
   "outputs": [
    {
     "name": "stdout",
     "output_type": "stream",
     "text": [
      "@SRR7167720.1 1 length=50\n",
      "GTTAGGGTTAGGGTTAGGGTTAGGGTTAGGGGTTAGGGTTAGGGTTAGGG\n",
      "+SRR7167720.1 1 length=50\n",
      "A<A0AE@?1@F101=0@E=F1FFB>:=FF>:E=9ECFE=:CEFGG>0>CD\n",
      "@SRR7167720.1 1 length=50\n",
      "CTCGCTCCCTACCCAACCCTAACCCTAACCCTAACCCTAACCCTAACCCT\n",
      "+SRR7167720.1 1 length=50\n",
      ":<3<0EC/=C1B101;/</::::0::1>:00EG11:EFBBBDDG111EGG\n",
      "@SRR7167720.2 2 length=50\n",
      "CTAACCCTAACCCTAACCCTACCCCTAACCCTAACCCTAACCCTAACCCT\n",
      "+SRR7167720.2 2 length=50\n",
      "CCCCCGGGGGGGGGGGGGGGGGGGGGGGFGGGGGGGGEGGGGGGFGDGGB\n",
      "@SRR7167720.2 2 length=50\n",
      "GGTTAGGGTTAGGGTTAGGGTTAGGGTTAGGGTTAGGGTTAGGTTAGGGT\n",
      "+SRR7167720.2 2 length=50\n",
      "BCCCBGEGGGGGGEGGGGGGEGGGGGGGGGGFGE0FGGGGEDF:F11=F1\n",
      "@SRR7167720.3 3 length=50\n",
      "GGTTAGGGTTAGGGTTAGGGTTAGGGTTAGGGTTAGGGTTAGGGTTAGGG\n",
      "+SRR7167720.3 3 length=50\n",
      "BCBBCFGGGGGGGGGGGGGGGGGGGGGGGGGGFFGGGGCDGGGG1BFGGG\n",
      "@SRR7167720.3 3 length=50\n",
      "CCCTAACCCTAACCCTAACCCCTAACCCTAACCCTAACCCTAACCCTAAC\n",
      "+SRR7167720.3 3 length=50\n",
      "CCCBCGGGGFGGGGGGGGGGGBFGGGFBDGEGGGGGDGGGGGGGGGGGGG\n",
      "@SRR7167720.4 4 length=50\n",
      "GTTAGGGTTAGGGTTAGGGTTTTAGGGTTAGGGTTAGGGTTTTAGGGTTA\n",
      "+SRR7167720.4 4 length=50\n",
      "BBBBBFGGGBFGGGGGGGG@FGGGGGGFGGGGGDBGGGG=@/01EFG=1<\n",
      "@SRR7167720.4 4 length=50\n",
      "CCTAACCCTAACCCTAACCTAACCCTAACCCTAAGCCTAACCCTAACCCT\n",
      "+SRR7167720.4 4 length=50\n",
      "CCCCCGGGGGGGGGGGGGGGGGGGGGGGGGGGGGGGGGGGGGGGGGGGGG\n",
      "@SRR7167720.5 5 length=50\n",
      "GTTAGGGTTAGGGTTAGGGTTAGGGTTTAGGGTTTAGGGTTTAGGGTTTA\n",
      "+SRR7167720.5 5 length=50\n",
      "BBBCCEFFGGEGGGGGGGGDGGGGG<FDGGGGEFGGGGGEFGGGGGF@/@\n",
      "@SRR7167720.5 5 length=50\n",
      "CTAACCCTAACCCTAACCCTAACCCTAACCCTAACCCTAACCCCTAACCC\n",
      "+SRR7167720.5 5 length=50\n",
      "CCCCCGGGGGGGGGGG1FGG1F10E1111=:1=1100::1100EB01<<E\n"
     ]
    },
    {
     "name": "stderr",
     "output_type": "stream",
     "text": [
      "Read 5 spots for SRR7167720\n",
      "Written 5 spots for SRR7167720\n"
     ]
    }
   ],
   "source": [
    "%%bash  \n",
    "cd /mnt/c/Users/asul0/Documents \n",
    "sratoolkit.2.9.2-ubuntu64/bin/fastq-dump --split-files -X 5 -Z SRR7167720"
   ]
  },
  {
   "cell_type": "markdown",
   "metadata": {},
   "source": [
    "Now repeat without using --split-files. What is the difference?"
   ]
  },
  {
   "cell_type": "markdown",
   "metadata": {},
   "source": [
    "```\n",
    "%%bash  \n",
    "cd /mnt/c/Users/Jerry/Downloads  \n",
    "sratoolkit.2.9.2-ubuntu64/bin/fastq-dump -X 5 -Z SRR7167720\n",
    "```"
   ]
  },
  {
   "cell_type": "code",
   "execution_count": 6,
   "metadata": {},
   "outputs": [
    {
     "name": "stdout",
     "output_type": "stream",
     "text": [
      "@SRR7167720.1 1 length=100\n",
      "GTTAGGGTTAGGGTTAGGGTTAGGGTTAGGGGTTAGGGTTAGGGTTAGGGCTCGCTCCCTACCCAACCCTAACCCTAACCCTAACCCTAACCCTAACCCT\n",
      "+SRR7167720.1 1 length=100\n",
      "A<A0AE@?1@F101=0@E=F1FFB>:=FF>:E=9ECFE=:CEFGG>0>CD:<3<0EC/=C1B101;/</::::0::1>:00EG11:EFBBBDDG111EGG\n",
      "@SRR7167720.2 2 length=100\n",
      "CTAACCCTAACCCTAACCCTACCCCTAACCCTAACCCTAACCCTAACCCTGGTTAGGGTTAGGGTTAGGGTTAGGGTTAGGGTTAGGGTTAGGTTAGGGT\n",
      "+SRR7167720.2 2 length=100\n",
      "CCCCCGGGGGGGGGGGGGGGGGGGGGGGFGGGGGGGGEGGGGGGFGDGGBBCCCBGEGGGGGGEGGGGGGEGGGGGGGGGGFGE0FGGGGEDF:F11=F1\n",
      "@SRR7167720.3 3 length=100\n",
      "GGTTAGGGTTAGGGTTAGGGTTAGGGTTAGGGTTAGGGTTAGGGTTAGGGCCCTAACCCTAACCCTAACCCCTAACCCTAACCCTAACCCTAACCCTAAC\n",
      "+SRR7167720.3 3 length=100\n",
      "BCBBCFGGGGGGGGGGGGGGGGGGGGGGGGGGFFGGGGCDGGGG1BFGGGCCCBCGGGGFGGGGGGGGGGGBFGGGFBDGEGGGGGDGGGGGGGGGGGGG\n",
      "@SRR7167720.4 4 length=100\n",
      "GTTAGGGTTAGGGTTAGGGTTTTAGGGTTAGGGTTAGGGTTTTAGGGTTACCTAACCCTAACCCTAACCTAACCCTAACCCTAAGCCTAACCCTAACCCT\n",
      "+SRR7167720.4 4 length=100\n",
      "BBBBBFGGGBFGGGGGGGG@FGGGGGGFGGGGGDBGGGG=@/01EFG=1<CCCCCGGGGGGGGGGGGGGGGGGGGGGGGGGGGGGGGGGGGGGGGGGGGG\n",
      "@SRR7167720.5 5 length=100\n",
      "GTTAGGGTTAGGGTTAGGGTTAGGGTTTAGGGTTTAGGGTTTAGGGTTTACTAACCCTAACCCTAACCCTAACCCTAACCCTAACCCTAACCCCTAACCC\n",
      "+SRR7167720.5 5 length=100\n",
      "BBBCCEFFGGEGGGGGGGGDGGGGG<FDGGGGEFGGGGGEFGGGGGF@/@CCCCCGGGGGGGGGGG1FGG1F10E1111=:1=1100::1100EB01<<E\n"
     ]
    },
    {
     "name": "stderr",
     "output_type": "stream",
     "text": [
      "Read 5 spots for SRR7167720\n",
      "Written 5 spots for SRR7167720\n"
     ]
    }
   ],
   "source": [
    "%%bash  \n",
    "cd /mnt/c/Users/asul0/Documents\n",
    "sratoolkit.2.9.2-ubuntu64/bin/fastq-dump -X 5 -Z SRR7167720"
   ]
  },
  {
   "cell_type": "markdown",
   "metadata": {},
   "source": [
    "### Exercises I:\n",
    "1) What read length was used in the sequencing study _A Distinct Population of Thirst-Associated Preoptic Neurons Encodes an Aversive Motivational Drive_?\n",
    "\n",
    "2) Using bash, print the first 5 ‘spots’ of the first RNA-seq run from the study above\n",
    "\n",
    "__HW0__ Now print the first 100 ‘spots’ of the first 5 runs (alphabetically) of the study each into a separate file and quantify how many times the nucleotide adenine occurs in each one. How does this compare to the other nucleotides? What are the possible reasons?\n"
   ]
  },
  {
   "cell_type": "markdown",
   "metadata": {},
   "source": [
    "Read length: 76"
   ]
  },
  {
   "cell_type": "code",
   "execution_count": 4,
   "metadata": {
    "scrolled": true
   },
   "outputs": [
    {
     "name": "stdout",
     "output_type": "stream",
     "text": [
      "@SRR5830640.1 1 length=76\n",
      "GTAGCCCAGTAATCATCTTACCTCAGGCTCCCCTATCTGGCTTCATGGTACTTCCCTGATGTATTTCAGAGAAATG\n",
      "+SRR5830640.1 1 length=76\n",
      "AAAAAEEAEEEEEEEAEEEE6EE6EEEEEEEAEEEEEEEEEE/EEEEEAEEE6EA6EEAEEE/EAAA/AAE//AE/\n",
      "@SRR5830640.1 1 length=76\n",
      "ACACTGAAGATGTAAGAATTTCACCGGATATTAACAGTGCCTGAAGTTAAAACACTACCACACTTTAGCTAGATGT\n",
      "+SRR5830640.1 1 length=76\n",
      "/AAAAE/AE/AEE6<AE6EAEAAEEEE/E/A//AEAEAEE666/AA6A///E666A6A//EE//A//66//A/<A/\n",
      "@SRR5830640.2 2 length=76\n",
      "ATACTATGTAGCCCACAGATTGACTCCTTCACCATCGTGTACTTGGATTGCTTCCTTGCTTCCTTCTCCTGGCAGT\n",
      "+SRR5830640.2 2 length=76\n",
      "AAAAAEEEEEEEEEEEEEEEEEEEEEEEEEAEEEEEEEEEEEEEEEEEEEEEEEEEEEEEEEEEEEEEEEEEE/EA\n",
      "@SRR5830640.2 2 length=76\n",
      "CCTCTGGGCCACGGTGGACTCGCCCTCTATAACCCTAAGCCCAAATAAACTCTCTGGCCTGTAAATTACTGGTCAT\n",
      "+SRR5830640.2 2 length=76\n",
      "AAAAAEEEEEEEEEEEEEEEEEEEEEEEEEEEEEEEEEEEEEEAAEAEEEEEEEEEEEEEEE//AEEEAAEEEEAE\n",
      "@SRR5830640.3 3 length=76\n",
      "ATGCACGCATATGCTCACACACAAACTCAGACTCTGAAGTCTGGTAGCCTGTGAATGTTCCTTTTGTAAAATGCTT\n",
      "+SRR5830640.3 3 length=76\n",
      "AAAAAEEEEEEEEEEEAEEEEEEEEEEEEEAEEEEEEEEEEEEEEEEEEEEEEEEEEEEEEEEEEEA6EEEEEEEE\n",
      "@SRR5830640.3 3 length=76\n",
      "CCTTAACCGTTTCTTTGGGGTTTCTGATGGTTAGGACAGGGTTGGAGCAAAGAGGCTTTTGGAAGCATTTTACAAA\n",
      "+SRR5830640.3 3 length=76\n",
      "AAAAAAEEEAE6AEAAAEEEEE6EEE/AEEAA6AE/A6E/EA<EA/E/666A/AEA6AA/E<//A//AA<//A///\n",
      "@SRR5830640.4 4 length=76\n",
      "GTGCAGAGTAATGCCATCACTGCCCACTGGGAATGCAGCCCGAATAATTAATAGCCACCCCTCAGACGGAGGACCA\n",
      "+SRR5830640.4 4 length=76\n",
      "A/AAAEEEEEEEEEEEEEEEEEEEAAE<EEEEEEAEEE/EEEAEAEEEEEEEEEAAEEEEEEE/AEEEE/EEAEEE\n",
      "@SRR5830640.4 4 length=76\n",
      "CCTTGGAGGTGGAGCCCAGTGACACCATCGAGAATGTGAAGGCCAAGATCCAGGATAAAGAGGGCATCCCCCCTGA\n",
      "+SRR5830640.4 4 length=76\n",
      "AAAAAEEEEEEE6EEEEAEEEEEEEEAEEE6EEEEEEEEEEEEEAEE6EEEEEA//AEE6AEEEAEEAEEAA/<A/\n",
      "@SRR5830640.5 5 length=76\n",
      "CTTTAATATACGCTATTGGAGCTGGAATTACCGCGGCTGCTGGCACCAGACTTTCCCTCCAATCGATCCTCGATAA\n",
      "+SRR5830640.5 5 length=76\n",
      "AAAAA/E</EEEE<E/EEEEEEEEEEEEE//A<///EA/EEE///EEE/E<EE/A///6AEEE///EEAEEE/6</\n",
      "@SRR5830640.5 5 length=76\n",
      "CATCCAAGGAAGGCAGCAGGCGCGCAAATTACCCACTCCCGACCCGGGGAGGTAGTGACGAAAAATAACAAAACAG\n",
      "+SRR5830640.5 5 length=76\n",
      "/A/A//E///EEA6EE//<<<E/EE666E66///<66/E/EAAAA/E/A/</E/E//<///<A//////////E/6\n"
     ]
    },
    {
     "name": "stderr",
     "output_type": "stream",
     "text": [
      "Read 5 spots for SRR5830640\n",
      "Written 5 spots for SRR5830640\n"
     ]
    }
   ],
   "source": [
    "%%bash \n",
    "cd /mnt/c/Users/asul0/Documents \n",
    "./sratoolkit.2.9.2-ubuntu64/bin/fastq-dump --split-files -X 5 -Z SRR5830640"
   ]
  },
  {
   "cell_type": "code",
   "execution_count": 9,
   "metadata": {},
   "outputs": [
    {
     "name": "stdout",
     "output_type": "stream",
     "text": [
      "Read 100 spots for SRR5830640\n",
      "Written 100 spots for SRR5830640\n",
      "1902\n",
      "2053\n",
      "1950\n",
      "1868\n",
      "1887\n",
      "1887\n",
      "1861\n",
      "1792\n"
     ]
    }
   ],
   "source": [
    "%%bash \n",
    "cd /mnt/c/Users/asul0/Documents \n",
    "sratoolkit.2.9.2-ubuntu64/bin/fastq-dump --split-files -X 100 SRR5830640\n",
    "awk 'NR%4==2' SRR5830640_1.fastq | grep -o \"A\" | wc -l\n",
    "awk 'NR%4==2' SRR5830640_2.fastq | grep -o \"A\" | wc -l\n",
    "awk 'NR%4==2' SRR5830640_1.fastq | grep -o \"T\" | wc -l\n",
    "awk 'NR%4==2' SRR5830640_2.fastq | grep -o \"T\" | wc -l\n",
    "awk 'NR%4==2' SRR5830640_1.fastq | grep -o \"G\" | wc -l\n",
    "awk 'NR%4==2' SRR5830640_2.fastq | grep -o \"G\" | wc -l\n",
    "awk 'NR%4==2' SRR5830640_1.fastq | grep -o \"C\" | wc -l\n",
    "awk 'NR%4==2' SRR5830640_2.fastq | grep -o \"C\" | wc -l"
   ]
  },
  {
   "cell_type": "code",
   "execution_count": 10,
   "metadata": {},
   "outputs": [
    {
     "name": "stdout",
     "output_type": "stream",
     "text": [
      "Read 100 spots for SRR5830639\n",
      "Written 100 spots for SRR5830639\n",
      "1950\n",
      "2059\n",
      "1973\n",
      "1946\n",
      "1813\n",
      "1821\n",
      "1864\n",
      "1774\n"
     ]
    }
   ],
   "source": [
    "%%bash \n",
    "cd /mnt/c/Users/asul0/Documents \n",
    "./sratoolkit.2.9.2-ubuntu64/bin/fastq-dump --split-files -X 100 SRR5830639\n",
    "awk 'NR%4==2' SRR5830639_1.fastq | grep -o \"A\" | wc -l\n",
    "awk 'NR%4==2' SRR5830639_2.fastq | grep -o \"A\" | wc -l\n",
    "awk 'NR%4==2' SRR5830639_1.fastq | grep -o \"T\" | wc -l\n",
    "awk 'NR%4==2' SRR5830639_2.fastq | grep -o \"T\" | wc -l\n",
    "awk 'NR%4==2' SRR5830639_1.fastq | grep -o \"G\" | wc -l\n",
    "awk 'NR%4==2' SRR5830639_2.fastq | grep -o \"G\" | wc -l\n",
    "awk 'NR%4==2' SRR5830639_1.fastq | grep -o \"C\" | wc -l\n",
    "awk 'NR%4==2' SRR5830639_2.fastq | grep -o \"C\" | wc -l"
   ]
  },
  {
   "cell_type": "code",
   "execution_count": 8,
   "metadata": {},
   "outputs": [
    {
     "name": "stdout",
     "output_type": "stream",
     "text": [
      "Read 100 spots for SRR5830638\n",
      "Written 100 spots for SRR5830638\n",
      "1875\n",
      "1860\n",
      "1880\n",
      "1849\n",
      "1982\n",
      "1869\n",
      "1863\n",
      "2022\n"
     ]
    }
   ],
   "source": [
    "%%bash \n",
    "cd /mnt/c/Users/asul0/Documents \n",
    "./sratoolkit.2.9.2-ubuntu64/bin/fastq-dump --split-files -X 100 SRR5830638\n",
    "awk 'NR%4==2' SRR5830638_1.fastq | grep -o \"A\" | wc -l\n",
    "awk 'NR%4==2' SRR5830638_2.fastq | grep -o \"A\" | wc -l\n",
    "awk 'NR%4==2' SRR5830638_1.fastq | grep -o \"T\" | wc -l\n",
    "awk 'NR%4==2' SRR5830638_2.fastq | grep -o \"T\" | wc -l\n",
    "awk 'NR%4==2' SRR5830638_1.fastq | grep -o \"G\" | wc -l\n",
    "awk 'NR%4==2' SRR5830638_2.fastq | grep -o \"G\" | wc -l\n",
    "awk 'NR%4==2' SRR5830638_1.fastq | grep -o \"C\" | wc -l\n",
    "awk 'NR%4==2' SRR5830638_2.fastq | grep -o \"C\" | wc -l"
   ]
  },
  {
   "cell_type": "code",
   "execution_count": 11,
   "metadata": {},
   "outputs": [
    {
     "name": "stdout",
     "output_type": "stream",
     "text": [
      "Read 100 spots for SRR5830637\n",
      "Written 100 spots for SRR5830637\n",
      "1922\n",
      "1868\n",
      "1893\n",
      "1905\n",
      "1937\n",
      "1903\n",
      "1848\n",
      "1924\n"
     ]
    }
   ],
   "source": [
    "%%bash \n",
    "cd /mnt/c/Users/asul0/Documents \n",
    "./sratoolkit.2.9.2-ubuntu64/bin/fastq-dump --split-files -X 100 SRR5830637\n",
    "awk 'NR%4==2' SRR5830637_1.fastq | grep -o \"A\" | wc -l\n",
    "awk 'NR%4==2' SRR5830637_2.fastq | grep -o \"A\" | wc -l\n",
    "awk 'NR%4==2' SRR5830637_1.fastq | grep -o \"T\" | wc -l\n",
    "awk 'NR%4==2' SRR5830637_2.fastq | grep -o \"T\" | wc -l\n",
    "awk 'NR%4==2' SRR5830637_1.fastq | grep -o \"G\" | wc -l\n",
    "awk 'NR%4==2' SRR5830637_2.fastq | grep -o \"G\" | wc -l\n",
    "awk 'NR%4==2' SRR5830637_1.fastq | grep -o \"C\" | wc -l\n",
    "awk 'NR%4==2' SRR5830637_2.fastq | grep -o \"C\" | wc -l"
   ]
  },
  {
   "cell_type": "code",
   "execution_count": 12,
   "metadata": {},
   "outputs": [
    {
     "name": "stdout",
     "output_type": "stream",
     "text": [
      "Read 100 spots for SRR5830636\n",
      "Written 100 spots for SRR5830636\n",
      "2035\n",
      "2134\n",
      "2027\n",
      "1958\n",
      "1721\n",
      "1740\n",
      "1817\n",
      "1768\n"
     ]
    }
   ],
   "source": [
    "%%bash \n",
    "cd /mnt/c/Users/asul0/Documents \n",
    "./sratoolkit.2.9.2-ubuntu64/bin/fastq-dump --split-files -X 100 SRR5830636\n",
    "awk 'NR%4==2' SRR5830636_1.fastq | grep -o \"A\" | wc -l\n",
    "awk 'NR%4==2' SRR5830636_2.fastq | grep -o \"A\" | wc -l\n",
    "awk 'NR%4==2' SRR5830636_1.fastq | grep -o \"T\" | wc -l\n",
    "awk 'NR%4==2' SRR5830636_2.fastq | grep -o \"T\" | wc -l\n",
    "awk 'NR%4==2' SRR5830636_1.fastq | grep -o \"G\" | wc -l\n",
    "awk 'NR%4==2' SRR5830636_2.fastq | grep -o \"G\" | wc -l\n",
    "awk 'NR%4==2' SRR5830636_1.fastq | grep -o \"C\" | wc -l\n",
    "awk 'NR%4==2' SRR5830636_2.fastq | grep -o \"C\" | wc -l"
   ]
  },
  {
   "cell_type": "markdown",
   "metadata": {},
   "source": [
    "There seems to be more Adenine nucleotide than any of the other ones. This is because during Illumina's library preparation, they add Adenine-overhang to the DNA fragments. These adenine-overhangs are needed for the next step in ligating adapters, which are needed for amplification as well as binding to the flow cell during sequencing. "
   ]
  },
  {
   "cell_type": "markdown",
   "metadata": {},
   "source": [
    "### Exercises II:\n",
    "1) It is common for RNA-seq reads to be contaminated with leftover adapter sequences. Test if the file SRR5454079_1.fastq contains any i7 adapter sequences ATCACGAC or ACAGTGGT.  \n",
    "1-2) What would be a proper way to determine if there is significant barcode contamination?\n",
    "\n",
    "__HW1__: Map SRR5454079 to the human genome using HISAT2 (or chromosome 20 if you have <8GB RAM).  \n",
    "__HW2__: Check the first 5 reads contained in the FASTQ files. Which chromosome did they align to?  \n",
    "__HW3__: Consult the samtools documentation then convert the output sam file into a sorted bam file.\n"
   ]
  },
  {
   "cell_type": "code",
   "execution_count": 17,
   "metadata": {
    "scrolled": true
   },
   "outputs": [
    {
     "name": "stdout",
     "output_type": "stream",
     "text": [
      "ATCACGACTGGGGTCTCGAAGAGGACGGGGGTAGGAAATCCTCCAGGATC\n",
      "ATCACGACCAGCTTCACCAGGAGCACCGTTGACTCCAGGACTACCCAC\n",
      "ATCACGACTGGGGTCTCGAAGAGGACGGGGGTAGGAAATCCTCCAGGATC\n",
      "ATCACGACGCAGGTCACTCAGGAACCGCTCCTGGTCGTTCTCCACCTGA\n",
      "ATCACGACTAACGTCGCTTTGCTATCAAAATCTGTATTTCTGATCCGTT\n",
      "ATCACGACTGGGGTCTCGAAGAGGACGGGGGTAGGAAATCCTCCAGGATC\n",
      "ATCACGACCAGAGACAGAAAGCCGGGCTATTGGTGGATCAGCCACCAAA\n",
      "ATCACGACAGGGTGGACAAGGTGCCATCACACTTCTTTTTTGTAATTCA\n",
      "ATCACGACTGGGGTCTCGAAGAGGACGGGGGTAGGAAATCCTCCAGGATC\n",
      "ATCACGACCCCATTGCCATAAAGTCCTATCACTCTCCCACACTTGTCT\n"
     ]
    }
   ],
   "source": [
    "%%bash\n",
    "cd /mnt/c/Users/asul0/Documents\n",
    "grep ^ATCACGAC SRR5454079_1.fastq | head"
   ]
  },
  {
   "cell_type": "code",
   "execution_count": 18,
   "metadata": {},
   "outputs": [
    {
     "name": "stdout",
     "output_type": "stream",
     "text": [
      "CTTGTAGGGTCCCTCAGCCATGGTTAACTCCACACTGTTCTCATCACGAC\n",
      "TCAGTCACTCAGTGCCTGGGATCTCGGGGCCTTCCTCGGTATCACGAC\n",
      "CTTCCACTCTCTTCGTTTAAATTGCCAAATACGTGCTGTCCCATCACGAC\n",
      "GTCTGTGGCTGTTTTTCCCGACAGTGGCAGAGGTGAGTAATCACGAC\n",
      "CTCGATACACACAACATCCAGGACTTGTGCCCTTGCCCCATCACGAC\n",
      "GATCACTTAAGCCTGGGGGTGTCAAGGCTGCAGTGAGCTGAGATCACGAC\n",
      "TCCATTGGATTTAAACTTCAAAGCTAATAGTTCAACGATGATATCACGAC\n",
      "ATGCAATGCAGGAAATAACCTTTCATTCTCCCCCCTAGAGGATCACGAC\n",
      "GCAGTTCAGAAGTCCCGCCTGCGAGTCTCAGCGCTCCCCAGCATCACGAC\n",
      "CTTGACTGGAACACCCGATCAAATGCATAAGGCTTGGACGCGATCACGAC\n"
     ]
    }
   ],
   "source": [
    "%%bash\n",
    "cd /mnt/c/Users/asul0/Documents\n",
    "grep ATCACGAC$ SRR5454079_1.fastq | head"
   ]
  },
  {
   "cell_type": "code",
   "execution_count": 20,
   "metadata": {},
   "outputs": [
    {
     "name": "stdout",
     "output_type": "stream",
     "text": [
      "ACAGTGGTGACAGGCACTACACGGGGCCTCACCTCCCTCCCTGGCTCCGT\n",
      "ACAGTGGTCTGCTGGGGACAAAAGGAAAAACGGGTCAAGAAAATATTCTT\n",
      "ACAGTGGTGCCTGGAAAATAAATTAAAACAGAAATGCATCAAAACAAA\n",
      "ACAGTGGTGAAATGACTGGCCAGAGGTTAGCCAGCTAGCACGTGGCAG\n",
      "ACAGTGGTGGCTACCTGGCTAGGCTGGGCACTACAGGGGCATGACTCCT\n",
      "ACAGTGGTGGCCGTGTGAGTGGTGCCCGTCTCGTGGGTCTCACAGGGGGG\n",
      "ACAGTGGTGAGACGTGTTTTTCTTTTCAGGTGCCCCATGATGGCATAC\n",
      "ACAGTGGTATGGATGGTAGGGGTGACAGCTGCCGCAGGACCAGGGCTTGG\n",
      "ACAGTGGTTGGAAGTTCTATTTTATTGCAATGGTCCTGATTGCAGCAAT\n",
      "ACAGTGGTCAGAGTAGTGAATTCATAGGCTGCCACCTCAGAATATACCCC\n"
     ]
    }
   ],
   "source": [
    "%%bash\n",
    "cd /mnt/c/Users/asul0/Documents\n",
    "grep ^ACAGTGGT SRR5454079_1.fastq | head"
   ]
  },
  {
   "cell_type": "code",
   "execution_count": 1,
   "metadata": {
    "scrolled": true
   },
   "outputs": [
    {
     "name": "stdout",
     "output_type": "stream",
     "text": [
      "GCCAAAGCGCCTTTGTCTTCCGAGTTCACCTGTGTGAAGGCGACAGTGGT\n",
      "TCCTGATGAGCAGTAAAAGTCAAGGGCTTATATGAGTACATACAGTGGT\n",
      "GCCAAAGCGCCTTTGTCTTCCGAGTTCACCTGTGTGAAGGCGACAGTGGT\n",
      "CGTCTCCCCAACATCAGCCACATATCCATAGCTGAAGAAATGACAGTGGT\n",
      "ATCCGCTGAGGCAGAGCTTTGGAGTAGGGAGCAGGGCGCGGCACAGTGGT\n",
      "CTGTAAAGGGTGAACATGTTTCTGCAACAATAGCTATTGCTACAGTGGT\n",
      "AAGGAAATAGTGGCACTGGTAGAGGAGGGAGCCTGGTTGTGGACAGTGGT\n",
      "AAGGAAATAGTGGCACTGGTAGAGGAGGGAGCCTGGTTGTGGACAGTGGT\n",
      "CTGGCTGTGCTTGGCACTACAGTCCCATTCAGTCCGGTAAAACAGTGGT\n",
      "TTCAGTTTCATCTGGGAAATGTGTAGCAGGAGGGCTTGAAGACAGTGGT\n"
     ]
    }
   ],
   "source": [
    "%%bash\n",
    "cd /mnt/c/Users/asul0/Documents\n",
    "grep ACAGTGGT$ SRR5454079_1.fastq | head"
   ]
  },
  {
   "cell_type": "code",
   "execution_count": 11,
   "metadata": {},
   "outputs": [
    {
     "name": "stdout",
     "output_type": "stream",
     "text": [
      "Process is interrupted.\n"
     ]
    }
   ],
   "source": [
    "%%bash\n",
    "cd /mnt/c/Users/asul0/Documents/\n",
    "./hisat2-2.1.0/hisat2 -x ./HISAT_indices/grch38/genome -U ./HISAT_indices/SRR5454079_1.fastq -S ./hisat_out/SRR5454079_1.sam\n",
    "#this step was taking a really long time and kept crashing on jupyter notebook so I did it in commander. "
   ]
  },
  {
   "cell_type": "code",
   "execution_count": 6,
   "metadata": {},
   "outputs": [],
   "source": [
    "%%bash\n",
    "cd /mnt/c/Users/asul0/Documents/hisat_out\n",
    "less SRR5454079_1.sam\n",
    "#also couldn't get this to work on jupyter notebook. I was able to get the alignment list on commander. \n"
   ]
  },
  {
   "cell_type": "markdown",
   "metadata": {},
   "source": [
    "Answer: the first five reads didn't show alignment to any chromosomes. The 23rd read was the first to align to a chromosome which was to chromosome 9.  "
   ]
  },
  {
   "cell_type": "code",
   "execution_count": 12,
   "metadata": {
    "scrolled": true
   },
   "outputs": [
    {
     "name": "stderr",
     "output_type": "stream",
     "text": [
      "[E::sam_parse1] incomplete aux field\n",
      "[W::sam_read1] Parse error at line 7536152\n",
      "[main_samview] truncated file.\n"
     ]
    },
    {
     "ename": "CalledProcessError",
     "evalue": "Command 'b'cd /mnt/c/Users/asul0/Documents/hisat_out\\nsamtools view -S -b SRR5454079_1.sam > SRR5454079_1.bam\\n'' returned non-zero exit status 1.",
     "output_type": "error",
     "traceback": [
      "\u001b[0;31m---------------------------------------------------------------------------\u001b[0m",
      "\u001b[0;31mCalledProcessError\u001b[0m                        Traceback (most recent call last)",
      "\u001b[0;32m<ipython-input-12-ea7b23566003>\u001b[0m in \u001b[0;36m<module>\u001b[0;34m\u001b[0m\n\u001b[0;32m----> 1\u001b[0;31m \u001b[0mget_ipython\u001b[0m\u001b[0;34m(\u001b[0m\u001b[0;34m)\u001b[0m\u001b[0;34m.\u001b[0m\u001b[0mrun_cell_magic\u001b[0m\u001b[0;34m(\u001b[0m\u001b[0;34m'bash'\u001b[0m\u001b[0;34m,\u001b[0m \u001b[0;34m''\u001b[0m\u001b[0;34m,\u001b[0m \u001b[0;34m'cd /mnt/c/Users/asul0/Documents/hisat_out\\nsamtools view -S -b SRR5454079_1.sam > SRR5454079_1.bam\\n'\u001b[0m\u001b[0;34m)\u001b[0m\u001b[0;34m\u001b[0m\u001b[0m\n\u001b[0m",
      "\u001b[0;32m~/.local/lib/python3.6/site-packages/IPython/core/interactiveshell.py\u001b[0m in \u001b[0;36mrun_cell_magic\u001b[0;34m(self, magic_name, line, cell)\u001b[0m\n\u001b[1;32m   2319\u001b[0m             \u001b[0mmagic_arg_s\u001b[0m \u001b[0;34m=\u001b[0m \u001b[0mself\u001b[0m\u001b[0;34m.\u001b[0m\u001b[0mvar_expand\u001b[0m\u001b[0;34m(\u001b[0m\u001b[0mline\u001b[0m\u001b[0;34m,\u001b[0m \u001b[0mstack_depth\u001b[0m\u001b[0;34m)\u001b[0m\u001b[0;34m\u001b[0m\u001b[0m\n\u001b[1;32m   2320\u001b[0m             \u001b[0;32mwith\u001b[0m \u001b[0mself\u001b[0m\u001b[0;34m.\u001b[0m\u001b[0mbuiltin_trap\u001b[0m\u001b[0;34m:\u001b[0m\u001b[0;34m\u001b[0m\u001b[0m\n\u001b[0;32m-> 2321\u001b[0;31m                 \u001b[0mresult\u001b[0m \u001b[0;34m=\u001b[0m \u001b[0mfn\u001b[0m\u001b[0;34m(\u001b[0m\u001b[0mmagic_arg_s\u001b[0m\u001b[0;34m,\u001b[0m \u001b[0mcell\u001b[0m\u001b[0;34m)\u001b[0m\u001b[0;34m\u001b[0m\u001b[0m\n\u001b[0m\u001b[1;32m   2322\u001b[0m             \u001b[0;32mreturn\u001b[0m \u001b[0mresult\u001b[0m\u001b[0;34m\u001b[0m\u001b[0m\n\u001b[1;32m   2323\u001b[0m \u001b[0;34m\u001b[0m\u001b[0m\n",
      "\u001b[0;32m~/.local/lib/python3.6/site-packages/IPython/core/magics/script.py\u001b[0m in \u001b[0;36mnamed_script_magic\u001b[0;34m(line, cell)\u001b[0m\n\u001b[1;32m    140\u001b[0m             \u001b[0;32melse\u001b[0m\u001b[0;34m:\u001b[0m\u001b[0;34m\u001b[0m\u001b[0m\n\u001b[1;32m    141\u001b[0m                 \u001b[0mline\u001b[0m \u001b[0;34m=\u001b[0m \u001b[0mscript\u001b[0m\u001b[0;34m\u001b[0m\u001b[0m\n\u001b[0;32m--> 142\u001b[0;31m             \u001b[0;32mreturn\u001b[0m \u001b[0mself\u001b[0m\u001b[0;34m.\u001b[0m\u001b[0mshebang\u001b[0m\u001b[0;34m(\u001b[0m\u001b[0mline\u001b[0m\u001b[0;34m,\u001b[0m \u001b[0mcell\u001b[0m\u001b[0;34m)\u001b[0m\u001b[0;34m\u001b[0m\u001b[0m\n\u001b[0m\u001b[1;32m    143\u001b[0m \u001b[0;34m\u001b[0m\u001b[0m\n\u001b[1;32m    144\u001b[0m         \u001b[0;31m# write a basic docstring:\u001b[0m\u001b[0;34m\u001b[0m\u001b[0;34m\u001b[0m\u001b[0m\n",
      "\u001b[0;32m<decorator-gen-109>\u001b[0m in \u001b[0;36mshebang\u001b[0;34m(self, line, cell)\u001b[0m\n",
      "\u001b[0;32m~/.local/lib/python3.6/site-packages/IPython/core/magic.py\u001b[0m in \u001b[0;36m<lambda>\u001b[0;34m(f, *a, **k)\u001b[0m\n\u001b[1;32m    185\u001b[0m     \u001b[0;31m# but it's overkill for just that one bit of state.\u001b[0m\u001b[0;34m\u001b[0m\u001b[0;34m\u001b[0m\u001b[0m\n\u001b[1;32m    186\u001b[0m     \u001b[0;32mdef\u001b[0m \u001b[0mmagic_deco\u001b[0m\u001b[0;34m(\u001b[0m\u001b[0marg\u001b[0m\u001b[0;34m)\u001b[0m\u001b[0;34m:\u001b[0m\u001b[0;34m\u001b[0m\u001b[0m\n\u001b[0;32m--> 187\u001b[0;31m         \u001b[0mcall\u001b[0m \u001b[0;34m=\u001b[0m \u001b[0;32mlambda\u001b[0m \u001b[0mf\u001b[0m\u001b[0;34m,\u001b[0m \u001b[0;34m*\u001b[0m\u001b[0ma\u001b[0m\u001b[0;34m,\u001b[0m \u001b[0;34m**\u001b[0m\u001b[0mk\u001b[0m\u001b[0;34m:\u001b[0m \u001b[0mf\u001b[0m\u001b[0;34m(\u001b[0m\u001b[0;34m*\u001b[0m\u001b[0ma\u001b[0m\u001b[0;34m,\u001b[0m \u001b[0;34m**\u001b[0m\u001b[0mk\u001b[0m\u001b[0;34m)\u001b[0m\u001b[0;34m\u001b[0m\u001b[0m\n\u001b[0m\u001b[1;32m    188\u001b[0m \u001b[0;34m\u001b[0m\u001b[0m\n\u001b[1;32m    189\u001b[0m         \u001b[0;32mif\u001b[0m \u001b[0mcallable\u001b[0m\u001b[0;34m(\u001b[0m\u001b[0marg\u001b[0m\u001b[0;34m)\u001b[0m\u001b[0;34m:\u001b[0m\u001b[0;34m\u001b[0m\u001b[0m\n",
      "\u001b[0;32m~/.local/lib/python3.6/site-packages/IPython/core/magics/script.py\u001b[0m in \u001b[0;36mshebang\u001b[0;34m(self, line, cell)\u001b[0m\n\u001b[1;32m    243\u001b[0m             \u001b[0msys\u001b[0m\u001b[0;34m.\u001b[0m\u001b[0mstderr\u001b[0m\u001b[0;34m.\u001b[0m\u001b[0mflush\u001b[0m\u001b[0;34m(\u001b[0m\u001b[0;34m)\u001b[0m\u001b[0;34m\u001b[0m\u001b[0m\n\u001b[1;32m    244\u001b[0m         \u001b[0;32mif\u001b[0m \u001b[0margs\u001b[0m\u001b[0;34m.\u001b[0m\u001b[0mraise_error\u001b[0m \u001b[0;32mand\u001b[0m \u001b[0mp\u001b[0m\u001b[0;34m.\u001b[0m\u001b[0mreturncode\u001b[0m\u001b[0;34m!=\u001b[0m\u001b[0;36m0\u001b[0m\u001b[0;34m:\u001b[0m\u001b[0;34m\u001b[0m\u001b[0m\n\u001b[0;32m--> 245\u001b[0;31m             \u001b[0;32mraise\u001b[0m \u001b[0mCalledProcessError\u001b[0m\u001b[0;34m(\u001b[0m\u001b[0mp\u001b[0m\u001b[0;34m.\u001b[0m\u001b[0mreturncode\u001b[0m\u001b[0;34m,\u001b[0m \u001b[0mcell\u001b[0m\u001b[0;34m,\u001b[0m \u001b[0moutput\u001b[0m\u001b[0;34m=\u001b[0m\u001b[0mout\u001b[0m\u001b[0;34m,\u001b[0m \u001b[0mstderr\u001b[0m\u001b[0;34m=\u001b[0m\u001b[0merr\u001b[0m\u001b[0;34m)\u001b[0m\u001b[0;34m\u001b[0m\u001b[0m\n\u001b[0m\u001b[1;32m    246\u001b[0m \u001b[0;34m\u001b[0m\u001b[0m\n\u001b[1;32m    247\u001b[0m     \u001b[0;32mdef\u001b[0m \u001b[0m_run_script\u001b[0m\u001b[0;34m(\u001b[0m\u001b[0mself\u001b[0m\u001b[0;34m,\u001b[0m \u001b[0mp\u001b[0m\u001b[0;34m,\u001b[0m \u001b[0mcell\u001b[0m\u001b[0;34m,\u001b[0m \u001b[0mto_close\u001b[0m\u001b[0;34m)\u001b[0m\u001b[0;34m:\u001b[0m\u001b[0;34m\u001b[0m\u001b[0m\n",
      "\u001b[0;31mCalledProcessError\u001b[0m: Command 'b'cd /mnt/c/Users/asul0/Documents/hisat_out\\nsamtools view -S -b SRR5454079_1.sam > SRR5454079_1.bam\\n'' returned non-zero exit status 1."
     ]
    }
   ],
   "source": [
    "%%bash\n",
    "cd /mnt/c/Users/asul0/Documents/hisat_out\n",
    "samtools view -S -b SRR5454079_1.sam > SRR5454079_1.bam"
   ]
  },
  {
   "cell_type": "code",
   "execution_count": null,
   "metadata": {},
   "outputs": [],
   "source": []
  }
 ],
 "metadata": {
  "kernelspec": {
   "display_name": "Python 3",
   "language": "python",
   "name": "python3"
  },
  "language_info": {
   "codemirror_mode": {
    "name": "ipython",
    "version": 3
   },
   "file_extension": ".py",
   "mimetype": "text/x-python",
   "name": "python",
   "nbconvert_exporter": "python",
   "pygments_lexer": "ipython3",
   "version": "3.6.6"
  }
 },
 "nbformat": 4,
 "nbformat_minor": 2
}
