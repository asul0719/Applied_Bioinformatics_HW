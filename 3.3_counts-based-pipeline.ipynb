{
 "cells": [
  {
   "cell_type": "markdown",
   "metadata": {},
   "source": [
    "## 3.1 Gene counts based expression analysis\n",
    "\n",
    "Read counts summary - inspect the uncounted reads\n",
    "#### How many reads were not counted towards individual genes?"
   ]
  },
  {
   "cell_type": "code",
   "execution_count": 1,
   "metadata": {},
   "outputs": [],
   "source": [
    "%%bash\n",
    "cd /mnt/c/Users/asul0/Documents/Applied_Bioinformatics_HW/Unit2-RNAseq/data\n"
   ]
  },
  {
   "cell_type": "markdown",
   "metadata": {},
   "source": [
    "#### How many reads to start with?\n",
    "Find out the number of pre-mapping reads, the number of reads mapped and number of secondary alignments"
   ]
  },
  {
   "cell_type": "code",
   "execution_count": 1,
   "metadata": {},
   "outputs": [
    {
     "name": "stdout",
     "output_type": "stream",
     "text": [
      "24142929 + 0 in total (QC-passed reads + QC-failed reads)\n",
      "5443891 + 0 secondary\n",
      "0 + 0 supplementary\n",
      "0 + 0 duplicates\n",
      "23309191 + 0 mapped (96.55% : N/A)\n",
      "0 + 0 paired in sequencing\n",
      "0 + 0 read1\n",
      "0 + 0 read2\n",
      "0 + 0 properly paired (N/A : N/A)\n",
      "0 + 0 with itself and mate mapped\n",
      "0 + 0 singletons (N/A : N/A)\n",
      "0 + 0 with mate mapped to a different chr\n",
      "0 + 0 with mate mapped to a different chr (mapQ>=5)\n"
     ]
    }
   ],
   "source": [
    "%%bash\n",
    "cd /mnt/c/Users/asul0/Documents\n",
    "samtools flagstat ./hisat_out/SRR5454079.bam"
   ]
  },
  {
   "cell_type": "markdown",
   "metadata": {},
   "source": [
    "#### Questions - write the answer below each question."
   ]
  },
  {
   "cell_type": "markdown",
   "metadata": {},
   "source": [
    "I) What are the components of a FASTQ file?"
   ]
  },
  {
   "cell_type": "markdown",
   "metadata": {},
   "source": [
    "Line 1: Sequence idetifier\n",
    "Line 2: raw sequence\n",
    "Line 3: quality score identifier line \n",
    "Line 4: quality score\n",
    "\n",
    "\n",
    "FASTQ files contain base call and quality information for all reads passing filtering. "
   ]
  },
  {
   "cell_type": "markdown",
   "metadata": {},
   "source": [
    "II) What is a SAM file?"
   ]
  },
  {
   "cell_type": "markdown",
   "metadata": {},
   "source": [
    "Sequence Alignment/Map format. It is a text-based format of storing biological sequences that are aligned to a reference sequence. "
   ]
  },
  {
   "cell_type": "markdown",
   "metadata": {},
   "source": [
    "III) Why is it not possible to run htseq-count directly on FASTQ files? What is the missing step?"
   ]
  },
  {
   "cell_type": "markdown",
   "metadata": {},
   "source": [
    "FASTQ is just strings of nucleotides therefore it needs to be first aligned to genes by converting to SAM file to be able to count the reads through htseq-count. The missing step is the alignment of the sequence to the genes. "
   ]
  },
  {
   "cell_type": "markdown",
   "metadata": {},
   "source": [
    "IV) Find one example of an optional SAM tag and explain why it might be useful."
   ]
  },
  {
   "cell_type": "markdown",
   "metadata": {},
   "source": [
    "One example of SAM tag is AS, which generates alignment score. This would be helpful when you want to figure out how much of the sequence is actually aligned to the genes. "
   ]
  },
  {
   "cell_type": "markdown",
   "metadata": {},
   "source": [
    "V) You practiced the steps from FASTQ to BAM but is it possible to go from BAM to FASTQ? If so, how?"
   ]
  },
  {
   "cell_type": "markdown",
   "metadata": {},
   "source": [
    "BAM can be converted to FASTQ by using HTSlib. \n",
    "First, the reads in the bam file must be shuffled. This step leads to a new BAM file that contain the original reads but they are no longer sorted. BAm file can be reverted to FASTQ by using HTSlib command htscmd bam2fq. FASTQ can further be compressed using zip to reduce its size. "
   ]
  },
  {
   "cell_type": "markdown",
   "metadata": {},
   "source": [
    "VI) Describe the process of a spliced alignment and explain why it is more difficult than mapping genomic DNA reads."
   ]
  },
  {
   "cell_type": "markdown",
   "metadata": {},
   "source": [
    "During RNA splicing the introns are removed from the RNA and the exons are the ones remaining to make the final product. If the sequence that we are reading comes from the splice sites where the exons are connected together, then when trying to align the sequence to the genome part of it will align to one section of the genome while the other section will align to another part of the genome since the introns that are spliced out will be skipped. This is more difficult than mapping genomic DNA reads because the RNA sequence doesn't contain all the sequences since the introns have been removed. "
   ]
  },
  {
   "cell_type": "markdown",
   "metadata": {},
   "source": [
    "VII) Using the default settings of htseq-count, would a read which mapped fully to a genomic region on which 2 genes overlap be counted towards any of the 2 genes? Explain why."
   ]
  },
  {
   "cell_type": "markdown",
   "metadata": {},
   "source": [
    "No, because the default settings of htseq-count is union in which the read is fully aligned with one gene. However, in the case where there is an overlap it can give an ambiguous result. Since HTSeq-count is used for differential expression analysis the ambiguous reads will be discarded."
   ]
  },
  {
   "cell_type": "markdown",
   "metadata": {},
   "source": [
    "VIII) You are interested in RNA-sequencing an organism for which no transcriptome annotations are available. Can you still use htseq-count to examine gene expression? If so, what upstream analyses would you perform first?"
   ]
  },
  {
   "cell_type": "markdown",
   "metadata": {},
   "source": [
    "The genome-guided transcriptome reconstruction can be used to RNA-seq an organism where the transcriptome annotations are not available. In this method the RNA-seq reads are mapped to the refeorence genome using the splice aligner, which assist in identifying exon-on-exon splice junctions on the genome. Then transcriptome assembly can be done using the maped results. After the transcriptome reconstruction, new genes can be identified by removing the already known genes. "
   ]
  },
  {
   "cell_type": "markdown",
   "metadata": {},
   "source": [
    "IX) Intron retention can result in mRNA isoforms that contain unspliced introns. If **sample 1** contains a high frequency of intron-retained isoforms of gene A whereas **sample 2** contains fully spliced isoforms of gene A, but each sample has the identical number of reads mapping to gene A, which sample will have a higher gene A count using default htseq-count settings?"
   ]
  },
  {
   "cell_type": "markdown",
   "metadata": {},
   "source": [
    "The sample 2 would give a higher gene A count using the default htseq-count settings because it would have a better alignment with the gene. Sample 1 on the other hand can give ambiguou results due to the introns that are retained in the isoforms of gene A. Since htseq-count is looking for differntial expression analysis the ambiguous mapping will be discarded. "
   ]
  },
  {
   "cell_type": "markdown",
   "metadata": {},
   "source": []
  }
 ],
 "metadata": {
  "kernelspec": {
   "display_name": "Python 3",
   "language": "python",
   "name": "python3"
  },
  "language_info": {
   "codemirror_mode": {
    "name": "ipython",
    "version": 3
   },
   "file_extension": ".py",
   "mimetype": "text/x-python",
   "name": "python",
   "nbconvert_exporter": "python",
   "pygments_lexer": "ipython3",
   "version": "3.6.6"
  }
 },
 "nbformat": 4,
 "nbformat_minor": 2
}
